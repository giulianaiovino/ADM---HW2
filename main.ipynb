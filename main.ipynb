{
  "nbformat": 4,
  "nbformat_minor": 0,
  "metadata": {
    "colab": {
      "name": "Homework2 ADM .ipynb",
      "provenance": [],
      "collapsed_sections": [],
      "machine_shape": "hm"
    },
    "kernelspec": {
      "name": "python3",
      "display_name": "Python 3"
    }
  },
  "cells": [
    {
      "cell_type": "code",
      "metadata": {
        "id": "z0IkM8v0f4Zp",
        "colab": {
          "base_uri": "https://localhost:8080/"
        },
        "outputId": "9e12e616-b915-4a48-927e-3a3869d2f570"
      },
      "source": [
        "from google.colab import drive\n",
        "drive.mount('/content/drive')"
      ],
      "execution_count": 1,
      "outputs": [
        {
          "output_type": "stream",
          "name": "stdout",
          "text": [
            "Drive already mounted at /content/drive; to attempt to forcibly remount, call drive.mount(\"/content/drive\", force_remount=True).\n"
          ]
        }
      ]
    },
    {
      "cell_type": "code",
      "metadata": {
        "id": "m6RHwy9mgSDh"
      },
      "source": [
        "import pandas as pd \n",
        "import numpy as np\n",
        "import matplotlib\n",
        "import matplotlib.pyplot as plt\n",
        "import datetime\n",
        "from datetime import datetime\n",
        "import seaborn as sns\n",
        "import scipy\n",
        "pd.set_option('display.float_format', lambda x: '%.5f' % x) "
      ],
      "execution_count": 2,
      "outputs": []
    },
    {
      "cell_type": "code",
      "metadata": {
        "id": "t-Lf5ryYgV74"
      },
      "source": [
        "dataframe = pd.read_csv(\"/content/drive/MyDrive/ADM/steam_reviews.csv\")"
      ],
      "execution_count": 3,
      "outputs": []
    },
    {
      "cell_type": "markdown",
      "metadata": {
        "id": "H9mXaVCJcks1"
      },
      "source": [
        "**<h1> ADM HOMEWORK - GROUP 28 </h1>**"
      ]
    },
    {
      "cell_type": "markdown",
      "metadata": {
        "id": "akpmw7U8lK50"
      },
      "source": [
        "**<h1>[RQ1]</h1>**\n",
        "After collecting information, the Data Scientists have to know what dataset they are dealing with, so let's start with an Exploratory Data Analysis (EDA). What can you say about our dataset? Please summarize its main characteristics with visual and tabular methods.\n"
      ]
    },
    {
      "cell_type": "markdown",
      "metadata": {
        "id": "9NUafriFdZ2C"
      },
      "source": [
        "The dataset **Steam Reviews** contains the reviews received for the applications in Steam. Each row in the dataset represents a review made by one user or author about a specific application. "
      ]
    },
    {
      "cell_type": "code",
      "metadata": {
        "colab": {
          "base_uri": "https://localhost:8080/"
        },
        "id": "mupOLHlcnapi",
        "outputId": "c447ff8d-f0df-4531-be2e-2be5d5dee58d"
      },
      "source": [
        "dataframe.shape"
      ],
      "execution_count": 4,
      "outputs": [
        {
          "output_type": "execute_result",
          "data": {
            "text/plain": [
              "(21747371, 23)"
            ]
          },
          "metadata": {},
          "execution_count": 4
        }
      ]
    },
    {
      "cell_type": "markdown",
      "metadata": {
        "id": "Z7NZqENLfnXA"
      },
      "source": [
        "The dataset contains *21747371 observations* and *23 features*. The large size of the dataset doesn't allow the complete visualization, but in order to have an idea about how the data are it's possible to observe the first 5 and the last 5 rows, which constitute respectively the *head* and the *tail* of the dataset. "
      ]
    },
    {
      "cell_type": "code",
      "metadata": {
        "colab": {
          "base_uri": "https://localhost:8080/",
          "height": 677
        },
        "id": "6GSlJS9PlR6H",
        "outputId": "2170df17-1560-4e29-f268-4cfc2e0e5fc8"
      },
      "source": [
        "dataframe.head()"
      ],
      "execution_count": null,
      "outputs": [
        {
          "output_type": "execute_result",
          "data": {
            "text/html": [
              "<div>\n",
              "<style scoped>\n",
              "    .dataframe tbody tr th:only-of-type {\n",
              "        vertical-align: middle;\n",
              "    }\n",
              "\n",
              "    .dataframe tbody tr th {\n",
              "        vertical-align: top;\n",
              "    }\n",
              "\n",
              "    .dataframe thead th {\n",
              "        text-align: right;\n",
              "    }\n",
              "</style>\n",
              "<table border=\"1\" class=\"dataframe\">\n",
              "  <thead>\n",
              "    <tr style=\"text-align: right;\">\n",
              "      <th></th>\n",
              "      <th>Unnamed: 0</th>\n",
              "      <th>app_id</th>\n",
              "      <th>app_name</th>\n",
              "      <th>review_id</th>\n",
              "      <th>language</th>\n",
              "      <th>review</th>\n",
              "      <th>timestamp_created</th>\n",
              "      <th>timestamp_updated</th>\n",
              "      <th>recommended</th>\n",
              "      <th>votes_helpful</th>\n",
              "      <th>votes_funny</th>\n",
              "      <th>weighted_vote_score</th>\n",
              "      <th>comment_count</th>\n",
              "      <th>steam_purchase</th>\n",
              "      <th>received_for_free</th>\n",
              "      <th>written_during_early_access</th>\n",
              "      <th>author.steamid</th>\n",
              "      <th>author.num_games_owned</th>\n",
              "      <th>author.num_reviews</th>\n",
              "      <th>author.playtime_forever</th>\n",
              "      <th>author.playtime_last_two_weeks</th>\n",
              "      <th>author.playtime_at_review</th>\n",
              "      <th>author.last_played</th>\n",
              "    </tr>\n",
              "  </thead>\n",
              "  <tbody>\n",
              "    <tr>\n",
              "      <th>0</th>\n",
              "      <td>0</td>\n",
              "      <td>292030</td>\n",
              "      <td>The Witcher 3: Wild Hunt</td>\n",
              "      <td>85185598</td>\n",
              "      <td>schinese</td>\n",
              "      <td>不玩此生遗憾，RPG游戏里的天花板，太吸引人了</td>\n",
              "      <td>1611381629</td>\n",
              "      <td>1611381629</td>\n",
              "      <td>True</td>\n",
              "      <td>0</td>\n",
              "      <td>0</td>\n",
              "      <td>0.00</td>\n",
              "      <td>0</td>\n",
              "      <td>True</td>\n",
              "      <td>False</td>\n",
              "      <td>False</td>\n",
              "      <td>76561199095369542</td>\n",
              "      <td>6</td>\n",
              "      <td>2</td>\n",
              "      <td>1909.00</td>\n",
              "      <td>1448.00</td>\n",
              "      <td>1909.00</td>\n",
              "      <td>1611343383.00</td>\n",
              "    </tr>\n",
              "    <tr>\n",
              "      <th>1</th>\n",
              "      <td>1</td>\n",
              "      <td>292030</td>\n",
              "      <td>The Witcher 3: Wild Hunt</td>\n",
              "      <td>85185250</td>\n",
              "      <td>schinese</td>\n",
              "      <td>拔DIAO无情打桩机--杰洛特!!!</td>\n",
              "      <td>1611381030</td>\n",
              "      <td>1611381030</td>\n",
              "      <td>True</td>\n",
              "      <td>0</td>\n",
              "      <td>0</td>\n",
              "      <td>0.00</td>\n",
              "      <td>0</td>\n",
              "      <td>True</td>\n",
              "      <td>False</td>\n",
              "      <td>False</td>\n",
              "      <td>76561198949504115</td>\n",
              "      <td>30</td>\n",
              "      <td>10</td>\n",
              "      <td>2764.00</td>\n",
              "      <td>2743.00</td>\n",
              "      <td>2674.00</td>\n",
              "      <td>1611386307.00</td>\n",
              "    </tr>\n",
              "    <tr>\n",
              "      <th>2</th>\n",
              "      <td>2</td>\n",
              "      <td>292030</td>\n",
              "      <td>The Witcher 3: Wild Hunt</td>\n",
              "      <td>85185111</td>\n",
              "      <td>schinese</td>\n",
              "      <td>巫师3NB</td>\n",
              "      <td>1611380800</td>\n",
              "      <td>1611380800</td>\n",
              "      <td>True</td>\n",
              "      <td>0</td>\n",
              "      <td>0</td>\n",
              "      <td>0.00</td>\n",
              "      <td>0</td>\n",
              "      <td>True</td>\n",
              "      <td>False</td>\n",
              "      <td>False</td>\n",
              "      <td>76561199090098988</td>\n",
              "      <td>5</td>\n",
              "      <td>1</td>\n",
              "      <td>1061.00</td>\n",
              "      <td>1061.00</td>\n",
              "      <td>1060.00</td>\n",
              "      <td>1611383777.00</td>\n",
              "    </tr>\n",
              "    <tr>\n",
              "      <th>3</th>\n",
              "      <td>3</td>\n",
              "      <td>292030</td>\n",
              "      <td>The Witcher 3: Wild Hunt</td>\n",
              "      <td>85184605</td>\n",
              "      <td>english</td>\n",
              "      <td>One of the best RPG's of all time, worthy of a...</td>\n",
              "      <td>1611379970</td>\n",
              "      <td>1611379970</td>\n",
              "      <td>True</td>\n",
              "      <td>0</td>\n",
              "      <td>0</td>\n",
              "      <td>0.00</td>\n",
              "      <td>0</td>\n",
              "      <td>True</td>\n",
              "      <td>False</td>\n",
              "      <td>False</td>\n",
              "      <td>76561199054755373</td>\n",
              "      <td>5</td>\n",
              "      <td>3</td>\n",
              "      <td>5587.00</td>\n",
              "      <td>3200.00</td>\n",
              "      <td>5524.00</td>\n",
              "      <td>1611383744.00</td>\n",
              "    </tr>\n",
              "    <tr>\n",
              "      <th>4</th>\n",
              "      <td>4</td>\n",
              "      <td>292030</td>\n",
              "      <td>The Witcher 3: Wild Hunt</td>\n",
              "      <td>85184287</td>\n",
              "      <td>schinese</td>\n",
              "      <td>大作</td>\n",
              "      <td>1611379427</td>\n",
              "      <td>1611379427</td>\n",
              "      <td>True</td>\n",
              "      <td>0</td>\n",
              "      <td>0</td>\n",
              "      <td>0.00</td>\n",
              "      <td>0</td>\n",
              "      <td>True</td>\n",
              "      <td>False</td>\n",
              "      <td>False</td>\n",
              "      <td>76561199028326951</td>\n",
              "      <td>7</td>\n",
              "      <td>4</td>\n",
              "      <td>217.00</td>\n",
              "      <td>42.00</td>\n",
              "      <td>217.00</td>\n",
              "      <td>1610788249.00</td>\n",
              "    </tr>\n",
              "  </tbody>\n",
              "</table>\n",
              "</div>"
            ],
            "text/plain": [
              "   Unnamed: 0  app_id  ... author.playtime_at_review  author.last_played\n",
              "0           0  292030  ...                   1909.00       1611343383.00\n",
              "1           1  292030  ...                   2674.00       1611386307.00\n",
              "2           2  292030  ...                   1060.00       1611383777.00\n",
              "3           3  292030  ...                   5524.00       1611383744.00\n",
              "4           4  292030  ...                    217.00       1610788249.00\n",
              "\n",
              "[5 rows x 23 columns]"
            ]
          },
          "metadata": {},
          "execution_count": 31
        }
      ]
    },
    {
      "cell_type": "code",
      "metadata": {
        "colab": {
          "base_uri": "https://localhost:8080/",
          "height": 643
        },
        "id": "paU0rGq-lfNW",
        "outputId": "76ebdc8f-63e7-426e-ce75-35e1c3326b23"
      },
      "source": [
        "dataframe.tail()"
      ],
      "execution_count": null,
      "outputs": [
        {
          "output_type": "execute_result",
          "data": {
            "text/html": [
              "<div>\n",
              "<style scoped>\n",
              "    .dataframe tbody tr th:only-of-type {\n",
              "        vertical-align: middle;\n",
              "    }\n",
              "\n",
              "    .dataframe tbody tr th {\n",
              "        vertical-align: top;\n",
              "    }\n",
              "\n",
              "    .dataframe thead th {\n",
              "        text-align: right;\n",
              "    }\n",
              "</style>\n",
              "<table border=\"1\" class=\"dataframe\">\n",
              "  <thead>\n",
              "    <tr style=\"text-align: right;\">\n",
              "      <th></th>\n",
              "      <th>Unnamed: 0</th>\n",
              "      <th>app_id</th>\n",
              "      <th>app_name</th>\n",
              "      <th>review_id</th>\n",
              "      <th>language</th>\n",
              "      <th>review</th>\n",
              "      <th>timestamp_created</th>\n",
              "      <th>timestamp_updated</th>\n",
              "      <th>recommended</th>\n",
              "      <th>votes_helpful</th>\n",
              "      <th>votes_funny</th>\n",
              "      <th>weighted_vote_score</th>\n",
              "      <th>comment_count</th>\n",
              "      <th>steam_purchase</th>\n",
              "      <th>received_for_free</th>\n",
              "      <th>written_during_early_access</th>\n",
              "      <th>author.steamid</th>\n",
              "      <th>author.num_games_owned</th>\n",
              "      <th>author.num_reviews</th>\n",
              "      <th>author.playtime_forever</th>\n",
              "      <th>author.playtime_last_two_weeks</th>\n",
              "      <th>author.playtime_at_review</th>\n",
              "      <th>author.last_played</th>\n",
              "    </tr>\n",
              "  </thead>\n",
              "  <tbody>\n",
              "    <tr>\n",
              "      <th>21747366</th>\n",
              "      <td>21747371</td>\n",
              "      <td>546560</td>\n",
              "      <td>Half-Life: Alyx</td>\n",
              "      <td>65645125</td>\n",
              "      <td>english</td>\n",
              "      <td>Holy balls</td>\n",
              "      <td>1584986704</td>\n",
              "      <td>1584986704</td>\n",
              "      <td>True</td>\n",
              "      <td>0</td>\n",
              "      <td>0</td>\n",
              "      <td>0.00</td>\n",
              "      <td>0</td>\n",
              "      <td>True</td>\n",
              "      <td>False</td>\n",
              "      <td>False</td>\n",
              "      <td>76561197967033932</td>\n",
              "      <td>431</td>\n",
              "      <td>7</td>\n",
              "      <td>432.00</td>\n",
              "      <td>0.00</td>\n",
              "      <td>29.00</td>\n",
              "      <td>1586627816.00</td>\n",
              "    </tr>\n",
              "    <tr>\n",
              "      <th>21747367</th>\n",
              "      <td>21747372</td>\n",
              "      <td>546560</td>\n",
              "      <td>Half-Life: Alyx</td>\n",
              "      <td>65645115</td>\n",
              "      <td>english</td>\n",
              "      <td>A tripod thing bears down on you, it looks imm...</td>\n",
              "      <td>1584986693</td>\n",
              "      <td>1584986693</td>\n",
              "      <td>True</td>\n",
              "      <td>0</td>\n",
              "      <td>0</td>\n",
              "      <td>0.00</td>\n",
              "      <td>0</td>\n",
              "      <td>False</td>\n",
              "      <td>False</td>\n",
              "      <td>False</td>\n",
              "      <td>76561198046495482</td>\n",
              "      <td>70</td>\n",
              "      <td>10</td>\n",
              "      <td>3296.00</td>\n",
              "      <td>15.00</td>\n",
              "      <td>24.00</td>\n",
              "      <td>1611080231.00</td>\n",
              "    </tr>\n",
              "    <tr>\n",
              "      <th>21747368</th>\n",
              "      <td>21747373</td>\n",
              "      <td>546560</td>\n",
              "      <td>Half-Life: Alyx</td>\n",
              "      <td>65645100</td>\n",
              "      <td>english</td>\n",
              "      <td>Honestly this is the best vr game ever</td>\n",
              "      <td>1584986673</td>\n",
              "      <td>1584986673</td>\n",
              "      <td>True</td>\n",
              "      <td>0</td>\n",
              "      <td>0</td>\n",
              "      <td>0.47</td>\n",
              "      <td>0</td>\n",
              "      <td>True</td>\n",
              "      <td>False</td>\n",
              "      <td>False</td>\n",
              "      <td>76561198176379749</td>\n",
              "      <td>79</td>\n",
              "      <td>17</td>\n",
              "      <td>2654.00</td>\n",
              "      <td>0.00</td>\n",
              "      <td>34.00</td>\n",
              "      <td>1591633753.00</td>\n",
              "    </tr>\n",
              "    <tr>\n",
              "      <th>21747369</th>\n",
              "      <td>21747374</td>\n",
              "      <td>546560</td>\n",
              "      <td>Half-Life: Alyx</td>\n",
              "      <td>65645066</td>\n",
              "      <td>english</td>\n",
              "      <td>Smooth turning is not working right now.\\nIt a...</td>\n",
              "      <td>1584986631</td>\n",
              "      <td>1586382422</td>\n",
              "      <td>True</td>\n",
              "      <td>0</td>\n",
              "      <td>0</td>\n",
              "      <td>0.39</td>\n",
              "      <td>11</td>\n",
              "      <td>True</td>\n",
              "      <td>False</td>\n",
              "      <td>False</td>\n",
              "      <td>76561198041763187</td>\n",
              "      <td>140</td>\n",
              "      <td>3</td>\n",
              "      <td>210.00</td>\n",
              "      <td>0.00</td>\n",
              "      <td>12.00</td>\n",
              "      <td>1589715415.00</td>\n",
              "    </tr>\n",
              "    <tr>\n",
              "      <th>21747370</th>\n",
              "      <td>21747375</td>\n",
              "      <td>546560</td>\n",
              "      <td>Half-Life: Alyx</td>\n",
              "      <td>65644930</td>\n",
              "      <td>schinese</td>\n",
              "      <td>WMR加载中闪退，无法进入游戏\\nWMR Flashback in Load，cant pl...</td>\n",
              "      <td>1584986505</td>\n",
              "      <td>1592060800</td>\n",
              "      <td>True</td>\n",
              "      <td>0</td>\n",
              "      <td>0</td>\n",
              "      <td>0.42</td>\n",
              "      <td>5</td>\n",
              "      <td>True</td>\n",
              "      <td>False</td>\n",
              "      <td>False</td>\n",
              "      <td>76561198116747069</td>\n",
              "      <td>253</td>\n",
              "      <td>7</td>\n",
              "      <td>1062.00</td>\n",
              "      <td>0.00</td>\n",
              "      <td>8.00</td>\n",
              "      <td>1602857543.00</td>\n",
              "    </tr>\n",
              "  </tbody>\n",
              "</table>\n",
              "</div>"
            ],
            "text/plain": [
              "          Unnamed: 0  app_id  ... author.playtime_at_review  author.last_played\n",
              "21747366    21747371  546560  ...                     29.00       1586627816.00\n",
              "21747367    21747372  546560  ...                     24.00       1611080231.00\n",
              "21747368    21747373  546560  ...                     34.00       1591633753.00\n",
              "21747369    21747374  546560  ...                     12.00       1589715415.00\n",
              "21747370    21747375  546560  ...                      8.00       1602857543.00\n",
              "\n",
              "[5 rows x 23 columns]"
            ]
          },
          "metadata": {},
          "execution_count": 32
        }
      ]
    },
    {
      "cell_type": "markdown",
      "metadata": {
        "id": "bzVq7Ku4ulur"
      },
      "source": [
        "Actually only 22 of 23 features will provide information about the reviews, the authors of these reviews and the apps because the feature \"Unnamed:0\" indicates only the index of a review inside the dataset. In particular: \n",
        "\n",
        "*   **app_id** contains the app id to which the review refers.\n",
        "*   **app_name** contains the name of the app to which the review refers.\n",
        "*   **review_id** contains the review id.\n",
        "*   **language** contains the language in which the review was written.\n",
        "*   **review** contains the text of the review.\n",
        "*   **timestamp_created** the date of creation of the review.\n",
        "*   **timestamp_updated** the date of last modification of the review.\n",
        "*   **recommended** indicates if the author recommends the app. \n",
        "*   **votes_helpful** indicates how how many authors find the review helpful.\n",
        "*   **votes_funny** indicates how how many authors find the review funny.\n",
        "*   **weighted_vote_score** contains the utility score.\n",
        "*   **comment_count** contains the number of comments for each review.\n",
        "*   **steam_purchase** indicates if the user purchased the game on steam.\n",
        "*   **received_for_free** indicates if the app is free for the user.\n",
        "*   **written_during_early_access** indicates if the author posted the review while the game was in early access.\n",
        "*   **author.steamid** contains the id of the author.\n",
        "*   **author.num_games_owned** indicates the number of games owned by the user.\n",
        "*   **author.num_reviews** indicates the number of reviews written by an author.\n",
        "*   **author.playtime_forever** indicates the total recorded game time for this application. \n",
        "*   **author.playtime_last_two_weeks** indicates the game time recorded in the last two weeks for this application. \n",
        "*   **author.playtime_at_review** indicates the game time in which the review was written.\n",
        "*   **author.last_played** indicates the last time the user started the application. \n",
        "\n",
        "\n",
        "\n"
      ]
    },
    {
      "cell_type": "code",
      "metadata": {
        "colab": {
          "base_uri": "https://localhost:8080/"
        },
        "id": "BD0Lmz23xr3_",
        "outputId": "94e9c5fd-b8c4-4c14-a2c3-fbf541b70a16"
      },
      "source": [
        "dataframe.info()"
      ],
      "execution_count": 35,
      "outputs": [
        {
          "output_type": "stream",
          "name": "stdout",
          "text": [
            "<class 'pandas.core.frame.DataFrame'>\n",
            "RangeIndex: 21747371 entries, 0 to 21747370\n",
            "Data columns (total 23 columns):\n",
            " #   Column                          Dtype  \n",
            "---  ------                          -----  \n",
            " 0   Unnamed: 0                      int64  \n",
            " 1   app_id                          int64  \n",
            " 2   app_name                        object \n",
            " 3   review_id                       int64  \n",
            " 4   language                        object \n",
            " 5   review                          object \n",
            " 6   timestamp_created               int64  \n",
            " 7   timestamp_updated               int64  \n",
            " 8   recommended                     bool   \n",
            " 9   votes_helpful                   int64  \n",
            " 10  votes_funny                     int64  \n",
            " 11  weighted_vote_score             float64\n",
            " 12  comment_count                   int64  \n",
            " 13  steam_purchase                  bool   \n",
            " 14  received_for_free               bool   \n",
            " 15  written_during_early_access     bool   \n",
            " 16  author.steamid                  int64  \n",
            " 17  author.num_games_owned          int64  \n",
            " 18  author.num_reviews              int64  \n",
            " 19  author.playtime_forever         float64\n",
            " 20  author.playtime_last_two_weeks  float64\n",
            " 21  author.playtime_at_review       float64\n",
            " 22  author.last_played              float64\n",
            "dtypes: bool(4), float64(5), int64(11), object(3)\n",
            "memory usage: 3.2+ GB\n"
          ]
        }
      ]
    },
    {
      "cell_type": "markdown",
      "metadata": {
        "id": "4sZipxwJiKsZ"
      },
      "source": [
        "The dataset contains *boolean*, *object*, *integer* and *floating* variables. In order to analyze the main characteristics of the variables have been subdivided by type."
      ]
    },
    {
      "cell_type": "markdown",
      "metadata": {
        "id": "inbQ3p0F73BZ"
      },
      "source": [
        "The variables **\"recommended\"**, **\"steam_purchase\"**, **\"received_for_free\"** and **\"written_during_early_access\"** are boolean variables. In particular: \n",
        "* **recommended** is equal to **True** if the author recommends the app.\n",
        "* **steam_purchase** is equal to **True** if the app is purchased on steam.\n",
        "* **received_for_free** is equal to **True** if the app is free for the user.\n",
        "* **written_during_early_access** is equal to **True** if the review was posted while the game was in early access."
      ]
    },
    {
      "cell_type": "code",
      "metadata": {
        "colab": {
          "base_uri": "https://localhost:8080/",
          "height": 172
        },
        "id": "DvoN_thp3XsV",
        "outputId": "fd373210-d40b-4b85-8999-8899bfababe6"
      },
      "source": [
        "dataframe.describe(include = \"bool\")"
      ],
      "execution_count": 36,
      "outputs": [
        {
          "output_type": "execute_result",
          "data": {
            "text/html": [
              "<div>\n",
              "<style scoped>\n",
              "    .dataframe tbody tr th:only-of-type {\n",
              "        vertical-align: middle;\n",
              "    }\n",
              "\n",
              "    .dataframe tbody tr th {\n",
              "        vertical-align: top;\n",
              "    }\n",
              "\n",
              "    .dataframe thead th {\n",
              "        text-align: right;\n",
              "    }\n",
              "</style>\n",
              "<table border=\"1\" class=\"dataframe\">\n",
              "  <thead>\n",
              "    <tr style=\"text-align: right;\">\n",
              "      <th></th>\n",
              "      <th>recommended</th>\n",
              "      <th>steam_purchase</th>\n",
              "      <th>received_for_free</th>\n",
              "      <th>written_during_early_access</th>\n",
              "    </tr>\n",
              "  </thead>\n",
              "  <tbody>\n",
              "    <tr>\n",
              "      <th>count</th>\n",
              "      <td>21747371</td>\n",
              "      <td>21747371</td>\n",
              "      <td>21747371</td>\n",
              "      <td>21747371</td>\n",
              "    </tr>\n",
              "    <tr>\n",
              "      <th>unique</th>\n",
              "      <td>2</td>\n",
              "      <td>2</td>\n",
              "      <td>2</td>\n",
              "      <td>2</td>\n",
              "    </tr>\n",
              "    <tr>\n",
              "      <th>top</th>\n",
              "      <td>True</td>\n",
              "      <td>True</td>\n",
              "      <td>False</td>\n",
              "      <td>False</td>\n",
              "    </tr>\n",
              "    <tr>\n",
              "      <th>freq</th>\n",
              "      <td>19022610</td>\n",
              "      <td>16842432</td>\n",
              "      <td>21059310</td>\n",
              "      <td>19730986</td>\n",
              "    </tr>\n",
              "  </tbody>\n",
              "</table>\n",
              "</div>"
            ],
            "text/plain": [
              "       recommended steam_purchase received_for_free written_during_early_access\n",
              "count     21747371       21747371          21747371                    21747371\n",
              "unique           2              2                 2                           2\n",
              "top           True           True             False                       False\n",
              "freq      19022610       16842432          21059310                    19730986"
            ]
          },
          "metadata": {},
          "execution_count": 36
        }
      ]
    },
    {
      "cell_type": "markdown",
      "metadata": {
        "id": "6ui_YmRXlNJU"
      },
      "source": [
        "For **\"recommended\"** and **\"steam_purchase\"** features there is a prevalence of True values, on the contrary for **\"received_for_free\"** and **\"written_during_early_access\"** variables there is a prevalence of False values."
      ]
    },
    {
      "cell_type": "markdown",
      "metadata": {
        "id": "9FGrmayj9sGk"
      },
      "source": [
        "The variables **\"language\"** and **\"app_name\"** has object type."
      ]
    },
    {
      "cell_type": "code",
      "metadata": {
        "colab": {
          "base_uri": "https://localhost:8080/",
          "height": 172
        },
        "id": "Sf_-yqbQ1HB2",
        "outputId": "051bda16-dd28-47c4-922d-c3e76af46a73"
      },
      "source": [
        "dataframe[[\"language\", \"app_name\"]].describe()"
      ],
      "execution_count": 9,
      "outputs": [
        {
          "output_type": "execute_result",
          "data": {
            "text/html": [
              "<div>\n",
              "<style scoped>\n",
              "    .dataframe tbody tr th:only-of-type {\n",
              "        vertical-align: middle;\n",
              "    }\n",
              "\n",
              "    .dataframe tbody tr th {\n",
              "        vertical-align: top;\n",
              "    }\n",
              "\n",
              "    .dataframe thead th {\n",
              "        text-align: right;\n",
              "    }\n",
              "</style>\n",
              "<table border=\"1\" class=\"dataframe\">\n",
              "  <thead>\n",
              "    <tr style=\"text-align: right;\">\n",
              "      <th></th>\n",
              "      <th>language</th>\n",
              "      <th>app_name</th>\n",
              "    </tr>\n",
              "  </thead>\n",
              "  <tbody>\n",
              "    <tr>\n",
              "      <th>count</th>\n",
              "      <td>21747371</td>\n",
              "      <td>21747371</td>\n",
              "    </tr>\n",
              "    <tr>\n",
              "      <th>unique</th>\n",
              "      <td>28</td>\n",
              "      <td>315</td>\n",
              "    </tr>\n",
              "    <tr>\n",
              "      <th>top</th>\n",
              "      <td>english</td>\n",
              "      <td>PLAYERUNKNOWN'S BATTLEGROUNDS</td>\n",
              "    </tr>\n",
              "    <tr>\n",
              "      <th>freq</th>\n",
              "      <td>9635437</td>\n",
              "      <td>1644255</td>\n",
              "    </tr>\n",
              "  </tbody>\n",
              "</table>\n",
              "</div>"
            ],
            "text/plain": [
              "        language                       app_name\n",
              "count   21747371                       21747371\n",
              "unique        28                            315\n",
              "top      english  PLAYERUNKNOWN'S BATTLEGROUNDS\n",
              "freq     9635437                        1644255"
            ]
          },
          "metadata": {},
          "execution_count": 9
        }
      ]
    },
    {
      "cell_type": "markdown",
      "metadata": {
        "id": "5bt27jW1-rwz"
      },
      "source": [
        "The variable **\"language\"** has 28 unique values and **\"app_name\"** has 315 unique values. This means that the dataset contains 21747371 reviews about 315 apps written in 28 languages. The language most used is English and the app for which it's possible to count more reviews is \"PLAYERUNKNOWN'S BATTLEGROUNDS\"."
      ]
    },
    {
      "cell_type": "markdown",
      "metadata": {
        "id": "LptlQBaHnhDY"
      },
      "source": [
        "The features **\"weighted_vote_score\"**, **\"author.playtime_forever\"**. **\"author.playtime_last_two_weeks\"**, **\"author.playtime_at_review\"**, **\"author.last_played\"** are floating variables and they have the following main characteristics:"
      ]
    },
    {
      "cell_type": "code",
      "metadata": {
        "colab": {
          "base_uri": "https://localhost:8080/",
          "height": 294
        },
        "id": "VuentGas1Xjn",
        "outputId": "ba4aca32-3416-4fd2-de49-b1a3db93663a"
      },
      "source": [
        "dataframe.describe(include = \"float64\")"
      ],
      "execution_count": 15,
      "outputs": [
        {
          "output_type": "execute_result",
          "data": {
            "text/html": [
              "<div>\n",
              "<style scoped>\n",
              "    .dataframe tbody tr th:only-of-type {\n",
              "        vertical-align: middle;\n",
              "    }\n",
              "\n",
              "    .dataframe tbody tr th {\n",
              "        vertical-align: top;\n",
              "    }\n",
              "\n",
              "    .dataframe thead th {\n",
              "        text-align: right;\n",
              "    }\n",
              "</style>\n",
              "<table border=\"1\" class=\"dataframe\">\n",
              "  <thead>\n",
              "    <tr style=\"text-align: right;\">\n",
              "      <th></th>\n",
              "      <th>weighted_vote_score</th>\n",
              "      <th>author.playtime_forever</th>\n",
              "      <th>author.playtime_last_two_weeks</th>\n",
              "      <th>author.playtime_at_review</th>\n",
              "      <th>author.last_played</th>\n",
              "    </tr>\n",
              "  </thead>\n",
              "  <tbody>\n",
              "    <tr>\n",
              "      <th>count</th>\n",
              "      <td>21747371.00000</td>\n",
              "      <td>21747369.00000</td>\n",
              "      <td>21747369.00000</td>\n",
              "      <td>21721689.00000</td>\n",
              "      <td>21747369.00000</td>\n",
              "    </tr>\n",
              "    <tr>\n",
              "      <th>mean</th>\n",
              "      <td>0.16544</td>\n",
              "      <td>16091.04969</td>\n",
              "      <td>155.54214</td>\n",
              "      <td>8807.42142</td>\n",
              "      <td>1580505062.05797</td>\n",
              "    </tr>\n",
              "    <tr>\n",
              "      <th>std</th>\n",
              "      <td>0.24340</td>\n",
              "      <td>37430.56776</td>\n",
              "      <td>730.04880</td>\n",
              "      <td>23885.53054</td>\n",
              "      <td>46761775.23009</td>\n",
              "    </tr>\n",
              "    <tr>\n",
              "      <th>min</th>\n",
              "      <td>0.00000</td>\n",
              "      <td>0.00000</td>\n",
              "      <td>0.00000</td>\n",
              "      <td>1.00000</td>\n",
              "      <td>0.00000</td>\n",
              "    </tr>\n",
              "    <tr>\n",
              "      <th>25%</th>\n",
              "      <td>0.00000</td>\n",
              "      <td>1250.00000</td>\n",
              "      <td>0.00000</td>\n",
              "      <td>559.00000</td>\n",
              "      <td>1573329476.00000</td>\n",
              "    </tr>\n",
              "    <tr>\n",
              "      <th>50%</th>\n",
              "      <td>0.00000</td>\n",
              "      <td>4307.00000</td>\n",
              "      <td>0.00000</td>\n",
              "      <td>1881.00000</td>\n",
              "      <td>1599058030.00000</td>\n",
              "    </tr>\n",
              "    <tr>\n",
              "      <th>75%</th>\n",
              "      <td>0.48276</td>\n",
              "      <td>14912.00000</td>\n",
              "      <td>0.00000</td>\n",
              "      <td>6823.00000</td>\n",
              "      <td>1609002209.00000</td>\n",
              "    </tr>\n",
              "    <tr>\n",
              "      <th>max</th>\n",
              "      <td>0.99599</td>\n",
              "      <td>3744943.00000</td>\n",
              "      <td>27039.00000</td>\n",
              "      <td>3228103.00000</td>\n",
              "      <td>1611434142.00000</td>\n",
              "    </tr>\n",
              "  </tbody>\n",
              "</table>\n",
              "</div>"
            ],
            "text/plain": [
              "       weighted_vote_score  ...  author.last_played\n",
              "count       21747371.00000  ...      21747369.00000\n",
              "mean               0.16544  ...    1580505062.05797\n",
              "std                0.24340  ...      46761775.23009\n",
              "min                0.00000  ...             0.00000\n",
              "25%                0.00000  ...    1573329476.00000\n",
              "50%                0.00000  ...    1599058030.00000\n",
              "75%                0.48276  ...    1609002209.00000\n",
              "max                0.99599  ...    1611434142.00000\n",
              "\n",
              "[8 rows x 5 columns]"
            ]
          },
          "metadata": {},
          "execution_count": 15
        }
      ]
    },
    {
      "cell_type": "markdown",
      "metadata": {
        "id": "sQj1wpnoor2S"
      },
      "source": [
        "The variables **\"Unnamed: 0\"**, **\"app_id\"**, **\"review_id\"**, **\"author.steamid\"**, **\"votes_helpful\"**, **\"votes_funny\"**, **\"comment_count\"**, **\"author.num_games_owned\"**, **\"author.num_reviews\"**, **\"timestamp_created\"** and **\"timestamp_updated\"** are indicated as integer variables. But, **\"timestamp_created\"** and **\"timestamp_updated\"** are dates in unix format and **\"app_id\"**, **\"review_id\"**, **\"author.steamid\"** are ID, so we are not interested in their main descriptive statistics. "
      ]
    },
    {
      "cell_type": "code",
      "metadata": {
        "colab": {
          "base_uri": "https://localhost:8080/",
          "height": 294
        },
        "id": "2GodRy-W28YK",
        "outputId": "39f85046-53e1-4b6e-aa9e-ca9fc37d1ce7"
      },
      "source": [
        "deletelistint = [\"Unnamed: 0\", \"app_id\", \"review_id\",\"author.steamid\", \"timestamp_created\",\"timestamp_updated\"]\n",
        "dataframe.drop(deletelistint, axis = 1).describe(include = \"int64\")\n"
      ],
      "execution_count": 16,
      "outputs": [
        {
          "output_type": "execute_result",
          "data": {
            "text/html": [
              "<div>\n",
              "<style scoped>\n",
              "    .dataframe tbody tr th:only-of-type {\n",
              "        vertical-align: middle;\n",
              "    }\n",
              "\n",
              "    .dataframe tbody tr th {\n",
              "        vertical-align: top;\n",
              "    }\n",
              "\n",
              "    .dataframe thead th {\n",
              "        text-align: right;\n",
              "    }\n",
              "</style>\n",
              "<table border=\"1\" class=\"dataframe\">\n",
              "  <thead>\n",
              "    <tr style=\"text-align: right;\">\n",
              "      <th></th>\n",
              "      <th>votes_helpful</th>\n",
              "      <th>votes_funny</th>\n",
              "      <th>comment_count</th>\n",
              "      <th>author.num_games_owned</th>\n",
              "      <th>author.num_reviews</th>\n",
              "    </tr>\n",
              "  </thead>\n",
              "  <tbody>\n",
              "    <tr>\n",
              "      <th>count</th>\n",
              "      <td>21747371.00000</td>\n",
              "      <td>21747371.00000</td>\n",
              "      <td>21747371.00000</td>\n",
              "      <td>21747371.00000</td>\n",
              "      <td>21747371.00000</td>\n",
              "    </tr>\n",
              "    <tr>\n",
              "      <th>mean</th>\n",
              "      <td>404468.85528</td>\n",
              "      <td>126791.72558</td>\n",
              "      <td>0.13088</td>\n",
              "      <td>1011300.09672</td>\n",
              "      <td>404477.48002</td>\n",
              "    </tr>\n",
              "    <tr>\n",
              "      <th>std</th>\n",
              "      <td>1333740760.95209</td>\n",
              "      <td>23335525.90491</td>\n",
              "      <td>2.19940</td>\n",
              "      <td>2108829161.08044</td>\n",
              "      <td>1333740760.91813</td>\n",
              "    </tr>\n",
              "    <tr>\n",
              "      <th>min</th>\n",
              "      <td>0.00000</td>\n",
              "      <td>0.00000</td>\n",
              "      <td>0.00000</td>\n",
              "      <td>0.00000</td>\n",
              "      <td>1.00000</td>\n",
              "    </tr>\n",
              "    <tr>\n",
              "      <th>25%</th>\n",
              "      <td>0.00000</td>\n",
              "      <td>0.00000</td>\n",
              "      <td>0.00000</td>\n",
              "      <td>22.00000</td>\n",
              "      <td>2.00000</td>\n",
              "    </tr>\n",
              "    <tr>\n",
              "      <th>50%</th>\n",
              "      <td>0.00000</td>\n",
              "      <td>0.00000</td>\n",
              "      <td>0.00000</td>\n",
              "      <td>61.00000</td>\n",
              "      <td>4.00000</td>\n",
              "    </tr>\n",
              "    <tr>\n",
              "      <th>75%</th>\n",
              "      <td>1.00000</td>\n",
              "      <td>0.00000</td>\n",
              "      <td>0.00000</td>\n",
              "      <td>145.00000</td>\n",
              "      <td>10.00000</td>\n",
              "    </tr>\n",
              "    <tr>\n",
              "      <th>max</th>\n",
              "      <td>4398046511106.00000</td>\n",
              "      <td>4294967295.00000</td>\n",
              "      <td>4893.00000</td>\n",
              "      <td>4398046511619.00000</td>\n",
              "      <td>4398046511108.00000</td>\n",
              "    </tr>\n",
              "  </tbody>\n",
              "</table>\n",
              "</div>"
            ],
            "text/plain": [
              "            votes_helpful  ...  author.num_reviews\n",
              "count      21747371.00000  ...      21747371.00000\n",
              "mean         404468.85528  ...        404477.48002\n",
              "std      1333740760.95209  ...    1333740760.91813\n",
              "min               0.00000  ...             1.00000\n",
              "25%               0.00000  ...             2.00000\n",
              "50%               0.00000  ...             4.00000\n",
              "75%               1.00000  ...            10.00000\n",
              "max   4398046511106.00000  ... 4398046511108.00000\n",
              "\n",
              "[8 rows x 5 columns]"
            ]
          },
          "metadata": {},
          "execution_count": 16
        }
      ]
    },
    {
      "cell_type": "markdown",
      "metadata": {
        "id": "DfsKvK7B5DZD"
      },
      "source": [
        "As indicate above, the variable **\"Unnamed: 0\"** doesn't add information and for this reason we don't analyze it. About **\"review_id\"**, **\"author.steamid\"** and **\"app_id\"** it's important to put the attention on unique values. "
      ]
    },
    {
      "cell_type": "code",
      "metadata": {
        "colab": {
          "base_uri": "https://localhost:8080/"
        },
        "id": "ZV4TOOYLvmuB",
        "outputId": "e5ccc6da-9e96-45c7-a811-d8044a11b35a"
      },
      "source": [
        "dataframe[\"app_id\"].unique().shape"
      ],
      "execution_count": 37,
      "outputs": [
        {
          "output_type": "execute_result",
          "data": {
            "text/plain": [
              "(315,)"
            ]
          },
          "metadata": {},
          "execution_count": 37
        }
      ]
    },
    {
      "cell_type": "markdown",
      "metadata": {
        "id": "hrdhWCGaryI6"
      },
      "source": [
        "The number of **\"app_id\"** is equal to the number of **\"app_name\"**, this means that there aren't app with the same name."
      ]
    },
    {
      "cell_type": "code",
      "metadata": {
        "colab": {
          "base_uri": "https://localhost:8080/"
        },
        "id": "xYJn6o-pvs3S",
        "outputId": "7b9243db-7f9b-40dc-f154-a6c8df2a37aa"
      },
      "source": [
        "dataframe[\"author.steamid\"].unique().shape"
      ],
      "execution_count": 38,
      "outputs": [
        {
          "output_type": "execute_result",
          "data": {
            "text/plain": [
              "(12406560,)"
            ]
          },
          "metadata": {},
          "execution_count": 38
        }
      ]
    },
    {
      "cell_type": "markdown",
      "metadata": {
        "id": "92M_5rq5xEGo"
      },
      "source": [
        "The dataset contains 21747371 rewiews written by 12406560 authors about 315 apps."
      ]
    },
    {
      "cell_type": "markdown",
      "metadata": {
        "id": "PFd7WFkW-4LI"
      },
      "source": [
        "Observing the count of the described variables it's possible to see that not all the values are equal. Ideally all the count should be equal to the number of rows in the dataset, but it’s not always like that. This means that there are any null values within the dataset. "
      ]
    },
    {
      "cell_type": "code",
      "metadata": {
        "id": "twJJSUQTda9L",
        "colab": {
          "base_uri": "https://localhost:8080/"
        },
        "outputId": "2bfc8e31-c4aa-4a76-a713-1c3170ade448"
      },
      "source": [
        "missingvalues = dataframe.isna().sum()\n",
        "print(\"Number of missing values for each variable: \\n\", missingvalues)"
      ],
      "execution_count": 39,
      "outputs": [
        {
          "output_type": "stream",
          "name": "stdout",
          "text": [
            "Number of missing values for each variable: \n",
            " Unnamed: 0                            0\n",
            "app_id                                0\n",
            "app_name                              0\n",
            "review_id                             0\n",
            "language                              0\n",
            "review                            33742\n",
            "timestamp_created                     0\n",
            "timestamp_updated                     0\n",
            "recommended                           0\n",
            "votes_helpful                         0\n",
            "votes_funny                           0\n",
            "weighted_vote_score                   0\n",
            "comment_count                         0\n",
            "steam_purchase                        0\n",
            "received_for_free                     0\n",
            "written_during_early_access           0\n",
            "author.steamid                        0\n",
            "author.num_games_owned                0\n",
            "author.num_reviews                    0\n",
            "author.playtime_forever               2\n",
            "author.playtime_last_two_weeks        2\n",
            "author.playtime_at_review         25682\n",
            "author.last_played                    2\n",
            "dtype: int64\n"
          ]
        }
      ]
    },
    {
      "cell_type": "code",
      "metadata": {
        "colab": {
          "base_uri": "https://localhost:8080/"
        },
        "id": "WHkGs4FVVyg3",
        "outputId": "c7da216e-4f0b-4978-b889-25c4f62e6496"
      },
      "source": [
        "percmissingvalues = (dataframe.isna().sum()*100 /dataframe.shape[0])\n",
        "print(\"Percentage of missing values for each variable: \\n\", percmissingvalues)"
      ],
      "execution_count": 40,
      "outputs": [
        {
          "output_type": "stream",
          "name": "stdout",
          "text": [
            "Percentage of missing values for each variable: \n",
            " Unnamed: 0                       0.00000\n",
            "app_id                           0.00000\n",
            "app_name                         0.00000\n",
            "review_id                        0.00000\n",
            "language                         0.00000\n",
            "review                           0.15515\n",
            "timestamp_created                0.00000\n",
            "timestamp_updated                0.00000\n",
            "recommended                      0.00000\n",
            "votes_helpful                    0.00000\n",
            "votes_funny                      0.00000\n",
            "weighted_vote_score              0.00000\n",
            "comment_count                    0.00000\n",
            "steam_purchase                   0.00000\n",
            "received_for_free                0.00000\n",
            "written_during_early_access      0.00000\n",
            "author.steamid                   0.00000\n",
            "author.num_games_owned           0.00000\n",
            "author.num_reviews               0.00000\n",
            "author.playtime_forever          0.00001\n",
            "author.playtime_last_two_weeks   0.00001\n",
            "author.playtime_at_review        0.11809\n",
            "author.last_played               0.00001\n",
            "dtype: float64\n"
          ]
        }
      ]
    },
    {
      "cell_type": "code",
      "metadata": {
        "colab": {
          "base_uri": "https://localhost:8080/",
          "height": 545
        },
        "id": "1YDkRncsabw6",
        "outputId": "a93d4d11-5caa-4729-9528-96ec01894178"
      },
      "source": [
        "plt.barh(dataframe.columns.values, missingvalues.values)\n",
        "plt.title('Number of Missing Values for each Variable')\n",
        "plt.gca().invert_yaxis()\n",
        "plt.show()\n",
        "\n",
        "plt.barh(dataframe.columns.values,percmissingvalues.values)\n",
        "plt.title('Percentage of Missing Values for each Variable')\n",
        "plt.gca().invert_yaxis()\n",
        "plt.xlim(0,1)\n",
        "plt.show()"
      ],
      "execution_count": 41,
      "outputs": [
        {
          "output_type": "display_data",
          "data": {
            "image/png": "[encoded data removed]",
            "text/plain": [
              "<Figure size 432x288 with 1 Axes>"
            ]
          },
          "metadata": {
            "needs_background": "light"
          }
        },
        {
          "output_type": "display_data",
          "data": {
            "image/png": "[encoded data removed]",
            "text/plain": [
              "<Figure size 432x288 with 1 Axes>"
            ]
          },
          "metadata": {
            "needs_background": "light"
          }
        }
      ]
    },
    {
      "cell_type": "markdown",
      "metadata": {
        "id": "WzhrwtGtAD0m"
      },
      "source": [
        "It's possible to see that the variables: **\"review\"**, **\"author.playtime_forever\"**, **\"author.playtime_at_review\"** and **\"author.last_played\"** contains null values. "
      ]
    },
    {
      "cell_type": "markdown",
      "metadata": {
        "id": "Ry0v8KgtvGbq"
      },
      "source": [
        "\n",
        "**<h1>[RQ2]</h1>** Let's explore the dataset by finding simple insights into the reviews.\n",
        "\n",
        "**[RQ2] a.** Plot the number of reviews for each application in descending order.\n"
      ]
    },
    {
      "cell_type": "code",
      "metadata": {
        "id": "tmBka0RNvZdH",
        "colab": {
          "base_uri": "https://localhost:8080/",
          "height": 299
        },
        "outputId": "276d59e0-c039-4615-b802-fef763a9012b"
      },
      "source": [
        "plt.barh(dataframe[\"app_name\"].value_counts().index[0:20], dataframe[\"app_name\"].value_counts().values[0:20])\n",
        "plt.ticklabel_format(useOffset=False, style='plain', axis='x')\n",
        "plt.gca().invert_yaxis()\n",
        "plt.xticks(rotation=90)\n",
        "plt.figsize = (12, 5)\n",
        "plt.show()"
      ],
      "execution_count": 42,
      "outputs": [
        {
          "output_type": "display_data",
          "data": {
            "image/png": "[encoded data removed]",
            "text/plain": [
              "<Figure size 432x288 with 1 Axes>"
            ]
          },
          "metadata": {
            "needs_background": "light"
          }
        }
      ]
    },
    {
      "cell_type": "markdown",
      "metadata": {
        "id": "951P_v7ttBCp"
      },
      "source": [
        "In the plot are represented only the first 20 most reviewed applications because there are 315 applications and if we represent all the plot become unreadable. "
      ]
    },
    {
      "cell_type": "markdown",
      "metadata": {
        "id": "aN29o7E3v3xV"
      },
      "source": [
        "**[RQ2] b.** What applications have the best Weighted Vote Score?"
      ]
    },
    {
      "cell_type": "code",
      "metadata": {
        "id": "FENwW8tfv6MW",
        "colab": {
          "base_uri": "https://localhost:8080/",
          "height": 616
        },
        "outputId": "b8e81711-bdea-4afd-f69c-6a06dec96593"
      },
      "source": [
        "#TOP 20 MOST WEIGHTED VOTE SCORES\n",
        "#Sorting the weighted_vote_score by descending order and return 20 top applications\n",
        "sorted_df_by_vote = dataframe.sort_values(\"weighted_vote_score\", ascending=False)[[\"app_name\",\"weighted_vote_score\"]][:20] #values\n",
        "print(\"Applications having best Weighted Vote Score: \\n\", sorted_df_by_vote)\n",
        "\n",
        "app_names = sorted_df_by_vote.values[:,0] #List of applications \n",
        "weighted_scores = sorted_df_by_vote.values[:,1] #List of weighed_score\n",
        "plt.pie(weighted_scores,labels=app_names) #Making pie chart, labels are application names and values are weighted_vote_score\n",
        "plt.show() "
      ],
      "execution_count": 43,
      "outputs": [
        {
          "output_type": "stream",
          "name": "stdout",
          "text": [
            "Applications having best Weighted Vote Score: \n",
            "                           app_name  weighted_vote_score\n",
            "5571634             Stardew Valley              0.99599\n",
            "10626081  Divinity: Original Sin 2              0.99525\n",
            "2353895                 Subnautica              0.99445\n",
            "9375898                     Mirror              0.99404\n",
            "4599864           Wallpaper Engine              0.99354\n",
            "18596700                  Terraria              0.99289\n",
            "2825980                 The Forest              0.99258\n",
            "15575403     Monster Hunter: World              0.99250\n",
            "15732624  The Elder Scrolls Online              0.99236\n",
            "2564824           Human: Fall Flat              0.99234\n",
            "17496921           DARK SOULS™ III              0.99233\n",
            "16810697              No Man's Sky              0.99227\n",
            "9625708                  Undertale              0.99216\n",
            "4621204           Wallpaper Engine              0.99180\n",
            "9325921                     Mirror              0.99177\n",
            "4878941                     Kenshi              0.99150\n",
            "4569302           Wallpaper Engine              0.99150\n",
            "5235224            DEATH STRANDING              0.99149\n",
            "5245248            DEATH STRANDING              0.99137\n",
            "17814647              Watch_Dogs 2              0.99111\n"
          ]
        },
        {
          "output_type": "display_data",
          "data": {
            "image/png": "[encoded data removed]",
            "text/plain": [
              "<Figure size 432x288 with 1 Axes>"
            ]
          },
          "metadata": {}
        }
      ]
    },
    {
      "cell_type": "markdown",
      "metadata": {
        "id": "ojp67dwQvAA2"
      },
      "source": [
        "In particular the application that have the Best Weighted Vote Score is : **Stardew Valley** with a weighted score equal to **0.99599**."
      ]
    },
    {
      "cell_type": "markdown",
      "metadata": {
        "id": "Fj7NMtgywYS_"
      },
      "source": [
        "**[RQ3] c.** Which applications have the most and the least recommendations?"
      ]
    },
    {
      "cell_type": "code",
      "metadata": {
        "colab": {
          "base_uri": "https://localhost:8080/"
        },
        "id": "zya9S7aMN3JY",
        "outputId": "fee3d2ac-a919-43c6-cb12-5d4a8256f4dd"
      },
      "source": [
        "recomreviews = dataframe[dataframe[\"recommended\"]== True].groupby(['app_name']).recommended.sum().sort_values(ascending = False)\n",
        "print(\"The 10 applications most recommended are:\\n\", recomreviews.head(10))\n",
        "print(\"The 10 applications least recommended are:\\n\", recomreviews.tail(10))"
      ],
      "execution_count": 44,
      "outputs": [
        {
          "output_type": "stream",
          "name": "stdout",
          "text": [
            "The 10 applications most recommended are:\n",
            " app_name\n",
            "PLAYERUNKNOWN'S BATTLEGROUNDS     886417\n",
            "Grand Theft Auto V                831311\n",
            "Tom Clancy's Rainbow Six Siege    742397\n",
            "Terraria                          658741\n",
            "Garry's Mod                       632558\n",
            "Rust                              468892\n",
            "Among Us                          463287\n",
            "The Witcher 3: Wild Hunt          460252\n",
            "Rocket League                     449464\n",
            "PAYDAY 2                          428136\n",
            "Name: recommended, dtype: int64\n",
            "The 10 applications least recommended are:\n",
            " app_name\n",
            "Down To One                    797\n",
            "Urban Empire                   759\n",
            "Umbrella Corps                 707\n",
            "Hunt Down The Freeman          689\n",
            "Rapture Rejects                672\n",
            "Out of the Park Baseball 19    594\n",
            "Shadow Complex Remastered      587\n",
            "Identity                       439\n",
            "DRAGON QUEST HEROES™ II        423\n",
            "Neon Hardcorps                  89\n",
            "Name: recommended, dtype: int64\n"
          ]
        }
      ]
    },
    {
      "cell_type": "markdown",
      "metadata": {
        "id": "oqbe095IxA2u"
      },
      "source": [
        "The application **PLAYERUNKNOWN'S BATTLEGROUNDS** is the most reviewed app and is also the most recommended, in fact is recommended in 886417 reviews. The application least recommended is **Neon Hardcorps** because is recommended only in 89 reviews. "
      ]
    },
    {
      "cell_type": "markdown",
      "metadata": {
        "id": "eXSF6KuNu68H"
      },
      "source": [
        "**[RQ3] d.** How many of these applications were purchased, and how many were given for free?"
      ]
    },
    {
      "cell_type": "code",
      "metadata": {
        "colab": {
          "base_uri": "https://localhost:8080/"
        },
        "id": "hTellqlEu-tY",
        "outputId": "299d0099-fd9b-4e89-fd1e-94d62543dfae"
      },
      "source": [
        "freeapps = dataframe[dataframe[\"received_for_free\"] == True].shape[0]\n",
        "purchasedapps = dataframe.shape[0] - freeapps\n",
        "print(freeapps, \"apps are given for free.\")\n",
        "print(purchasedapps, \"apps are purchased.\")"
      ],
      "execution_count": 45,
      "outputs": [
        {
          "output_type": "stream",
          "name": "stdout",
          "text": [
            "688061 apps are given for free.\n",
            "21059310 apps are purchased.\n"
          ]
        }
      ]
    },
    {
      "cell_type": "markdown",
      "metadata": {
        "id": "CzUm8gEwhFxf"
      },
      "source": [
        "**<h1>[RQ3]</h1>** Now it's important to understand the preferred time to do reviews.\n",
        "\n",
        "**[RQ3] a.** What is the most common time that authors review an application? For example, authors usually write a review at 17:44."
      ]
    },
    {
      "cell_type": "code",
      "metadata": {
        "id": "d5J6mW9nEall"
      },
      "source": [
        "time_data = dataframe[[\"timestamp_created\", \"timestamp_updated\", \"review_id\"]]"
      ],
      "execution_count": 41,
      "outputs": []
    },
    {
      "cell_type": "code",
      "metadata": {
        "colab": {
          "base_uri": "https://localhost:8080/"
        },
        "id": "h_fekL2ow6mk",
        "outputId": "5c9cf08e-47af-4cce-80ec-ba1fd190a7bc"
      },
      "source": [
        "timestamp_creatednew = pd.to_datetime(time_data[\"timestamp_created\"], unit='s')\n",
        "timestampfreq = timestamp_creatednew.dt.time.value_counts().head(10)\n",
        "timestampfreq"
      ],
      "execution_count": 40,
      "outputs": [
        {
          "output_type": "execute_result",
          "data": {
            "text/plain": [
              "15:54:53    583\n",
              "17:56:41    393\n",
              "15:24:50    390\n",
              "17:53:12    389\n",
              "14:42:19    387\n",
              "14:45:11    384\n",
              "15:04:07    382\n",
              "18:24:34    381\n",
              "18:20:45    379\n",
              "15:28:36    379\n",
              "Name: timestamp_created, dtype: int64"
            ]
          },
          "metadata": {},
          "execution_count": 40
        }
      ]
    },
    {
      "cell_type": "code",
      "metadata": {
        "colab": {
          "base_uri": "https://localhost:8080/",
          "height": 295
        },
        "id": "92pDpThI0vxE",
        "outputId": "3b92a416-fee7-4b14-eb98-5adcc7e7f263"
      },
      "source": [
        "timestampfreq.sort_values().plot.barh()\n",
        "plt.title(\"Number of reviews for top 10 most common times that authors review an application\")\n",
        "plt.xlabel(\"Reviews\")\n",
        "plt.ylabel(\"Time\")\n",
        "plt.show()"
      ],
      "execution_count": 48,
      "outputs": [
        {
          "output_type": "display_data",
          "data": {
            "image/png": "[encoded data removed]",
            "text/plain": [
              "<Figure size 432x288 with 1 Axes>"
            ]
          },
          "metadata": {
            "needs_background": "light"
          }
        }
      ]
    },
    {
      "cell_type": "markdown",
      "metadata": {
        "id": "noqDohit0ivr"
      },
      "source": [
        "The most common time that authors review an application is **15:54:53**, in particular **583** reviews contained within the dataset have been created at **15:54:53**. "
      ]
    },
    {
      "cell_type": "markdown",
      "metadata": {
        "id": "fS40pma3XuSM"
      },
      "source": [
        "**[RQ3] b.** Create a function that receives as a parameter a list of time intervals and\n",
        "returns the plot the number of reviews for each of the intervals."
      ]
    },
    {
      "cell_type": "code",
      "metadata": {
        "id": "WEk4L63MoSSz"
      },
      "source": [
        "def plotintervals(time_stamps):\n",
        "    out = list()\n",
        "    plot = list()\n",
        "    for i in range(0,len(time_stamps),2):\n",
        "        start = time_stamps[i]\n",
        "        end = time_stamps[i+1]\n",
        "        plot.append(time_data.between_time(start,end).count())\n",
        "    [out.append(i['review_id']) for i in plot]\n",
        "    intervals = ['6-10:59','11-13:59','14:00-16:59','17-19:59','20-23:59','00-02:59','03-05:59']\n",
        "    plt.bar(intervals, out)\n",
        "    plt.xticks(rotation=90)\n",
        "    plt.show()\n",
        "    return"
      ],
      "execution_count": 73,
      "outputs": []
    },
    {
      "cell_type": "markdown",
      "metadata": {
        "id": "XZSc_-OpJNac"
      },
      "source": [
        "**[RQ3] c.** Use the function that you created in the previous literal to plot the number of reviews between the following time intervals:"
      ]
    },
    {
      "cell_type": "code",
      "metadata": {
        "id": "GmU9Yqu3hjLY",
        "colab": {
          "base_uri": "https://localhost:8080/",
          "height": 327
        },
        "outputId": "df9ce398-b16a-4676-ecd3-f5958b4a1240"
      },
      "source": [
        "time_data['Time'] = pd.to_datetime(time_data['timestamp_created'], unit = \"s\")\n",
        "time_data = time_data.set_index('Time')\n",
        "timestamps = ['06:00:00','10:59:59',\n",
        "              '11:00:00', '13:59:59',\n",
        "              '14:00:00', '16:59:59',\n",
        "              '17:00:00', '19:59:59',\n",
        "              '20:00:00', '23:59:59',\n",
        "              '00:00:00', '02:59:59',\n",
        "              '03:00:00', '05:59:59']\n",
        "\n",
        "myplot = plotintervals(timestamps)"
      ],
      "execution_count": 74,
      "outputs": [
        {
          "output_type": "display_data",
          "data": {
            "image/png": "[encoded data removed]",
            "text/plain": [
              "<Figure size 432x288 with 1 Axes>"
            ]
          },
          "metadata": {
            "needs_background": "light"
          }
        }
      ]
    },
    {
      "cell_type": "markdown",
      "metadata": {
        "id": "5yvi1rXcogk6"
      },
      "source": [
        "**<h1>[RQ4]</h1>** \n",
        "As Steam is a worldwide platform, the reviews can be done in many languages. Let's extract some information about it."
      ]
    },
    {
      "cell_type": "markdown",
      "metadata": {
        "id": "iECiEhSqoqEW"
      },
      "source": [
        "**[RQ4] a.** What are the top 3 languages used to review applications?"
      ]
    },
    {
      "cell_type": "code",
      "metadata": {
        "colab": {
          "base_uri": "https://localhost:8080/"
        },
        "id": "RXYFBGDXorjn",
        "outputId": "c2fdd66f-7fd5-4b20-99b3-a787c7c34744"
      },
      "source": [
        "topthreelanguages = dataframe[\"language\"].value_counts()[0:3]\n",
        "topthreelanguages"
      ],
      "execution_count": 51,
      "outputs": [
        {
          "output_type": "execute_result",
          "data": {
            "text/plain": [
              "english     9635437\n",
              "schinese    3764967\n",
              "russian     2348900\n",
              "Name: language, dtype: int64"
            ]
          },
          "metadata": {},
          "execution_count": 51
        }
      ]
    },
    {
      "cell_type": "markdown",
      "metadata": {
        "id": "5KILBxiFBlxC"
      },
      "source": [
        "The top 3 languages used to review applications are: **english**, **schinese**, **russian**."
      ]
    },
    {
      "cell_type": "markdown",
      "metadata": {
        "id": "_0aR7skZrXhK"
      },
      "source": [
        "**[RQ4] b.** Create a function that receives as parameters both the name of a data set and a list of languages’ names and returns a data frame filtered only with the reviews written in the provided languages."
      ]
    },
    {
      "cell_type": "code",
      "metadata": {
        "id": "sNYZBJjzrZt1"
      },
      "source": [
        "def filterlanguages (dataset, languages):\n",
        "    finaldataset = pd.DataFrame() #empty data set \n",
        "    datasetlanguages = list(dataset[\"language\"].unique()) #create the list of unique languages \n",
        "    for i in range (len(languages)):\n",
        "      if (languages[i] in datasetlanguages): #check if the languages in the input list are present within language variable\n",
        "        mydataset = dataset[dataset['language'] == languages[i]] #filter the dataset\n",
        "        finaldataset = pd.concat([finaldataset, mydataset]) #concatenate the datasets\n",
        "      else:\n",
        "        print(\"there aren't reviews written in\", languages[i], \"language\")\n",
        "    finaldataset = finaldataset.sort_values(\"Unnamed: 0\") \n",
        "    return finaldataset"
      ],
      "execution_count": 5,
      "outputs": []
    },
    {
      "cell_type": "markdown",
      "metadata": {
        "id": "42MrMiETr9o3"
      },
      "source": [
        "**[RQ4] c.** Use the function created in the previous literal to find what percentage of these reviews (associated with the top 3 languages) were voted as funny?"
      ]
    },
    {
      "cell_type": "code",
      "metadata": {
        "id": "pHulqkQCsEeX"
      },
      "source": [
        "english = [\"english\"]\n",
        "schinese = [\"schinese\"]\n",
        "russian = [\"russian\"]\n",
        "funnyreviews = dataframe[dataframe[\"votes_funny\"] > 0]\n",
        "topthreelang_reviews = filterlanguages(dataframe, topthreelanguages.index.tolist())"
      ],
      "execution_count": 52,
      "outputs": []
    },
    {
      "cell_type": "code",
      "metadata": {
        "colab": {
          "base_uri": "https://localhost:8080/"
        },
        "id": "-uObFznOYpD0",
        "outputId": "8841696d-4473-4025-87a6-1d4b6550ba47"
      },
      "source": [
        "perc_englishrevewsfunny = filterlanguages(funnyreviews, english).shape[0]/topthreelang_reviews.shape[0]*100\n",
        "print(\"reviews written in english:\", perc_englishrevewsfunny)\n",
        "perc_schineserevewsfunny = filterlanguages(funnyreviews, schinese).shape[0]/topthreelang_reviews.shape[0]*100\n",
        "print(\"reviews written in schinese:\", perc_schineserevewsfunny)\n",
        "perc_russianrevewsfunny = filterlanguages(funnyreviews, russian).shape[0]/topthreelang_reviews.shape[0]*100\n",
        "print(\"reviews written in english:\", perc_russianrevewsfunny)"
      ],
      "execution_count": 53,
      "outputs": [
        {
          "output_type": "stream",
          "name": "stdout",
          "text": [
            "reviews written in english: 6.895523764097766\n",
            "reviews written in schinese: 2.825172464764157\n",
            "reviews written in english: 2.487627389756398\n"
          ]
        }
      ]
    },
    {
      "cell_type": "code",
      "metadata": {
        "colab": {
          "base_uri": "https://localhost:8080/",
          "height": 315
        },
        "id": "-H8OVRkwZNWQ",
        "outputId": "78e3f2c8-0d1b-4d32-f3de-66e850e95355"
      },
      "source": [
        "percentagefunny = [perc_englishrevewsfunny, perc_schineserevewsfunny, perc_russianrevewsfunny]\n",
        "plt.bar(topthreelanguages.index, percentagefunny)\n",
        "plt.title('Percentage of Funny Reviews for each of Top Three Language')\n",
        "plt.xticks(rotation=90)\n",
        "plt.show()"
      ],
      "execution_count": 54,
      "outputs": [
        {
          "output_type": "display_data",
          "data": {
            "image/png": "[encoded data removed]",
            "text/plain": [
              "<Figure size 432x288 with 1 Axes>"
            ]
          },
          "metadata": {
            "needs_background": "light"
          }
        }
      ]
    },
    {
      "cell_type": "markdown",
      "metadata": {
        "id": "6yqtaQa0Cm-L"
      },
      "source": [
        "Considering the reviews written in **english**, **schinese** and **russian**:\n",
        "* the percentage of reviews written in english and votes as funny is equal to **6.895523764097766**.\n",
        "* the percentage of reviews written in schinese and votes as funny is equal to **2.825172464764157**.\n",
        "* the percentage of reviews written in russian and votes as funny is equal to **2.487627389756398**.\n"
      ]
    },
    {
      "cell_type": "code",
      "metadata": {
        "colab": {
          "base_uri": "https://localhost:8080/"
        },
        "id": "aAjayLe2-AOm",
        "outputId": "a278102d-3023-4a34-ccde-4fbc9804eac0"
      },
      "source": [
        "print(\"reviews written in english, schinese and russian:\", filterlanguages(funnyreviews,topthreelanguages.index.tolist()).shape[0]/topthreelang_reviews.shape[0]*100)"
      ],
      "execution_count": 55,
      "outputs": [
        {
          "output_type": "stream",
          "name": "stdout",
          "text": [
            "reviews written in english, schinese and russian: 12.208323618618321\n"
          ]
        }
      ]
    },
    {
      "cell_type": "markdown",
      "metadata": {
        "id": "n5bnVMjYEDG4"
      },
      "source": [
        "The percentage of reviews written in english, schinese and russian and votes as funny is equal to **12.208323618618321**."
      ]
    },
    {
      "cell_type": "markdown",
      "metadata": {
        "id": "VB4SNSFdaa9x"
      },
      "source": [
        "**[RQ4] d.** Use the function created in the literal “a” to find what percentage of these reviews (associated with the top 3 languages) were voted as helpful?"
      ]
    },
    {
      "cell_type": "code",
      "metadata": {
        "id": "o5m6tYBNakxq"
      },
      "source": [
        "helpfulreviews = dataframe[dataframe[\"votes_helpful\"] > 0]"
      ],
      "execution_count": 56,
      "outputs": []
    },
    {
      "cell_type": "code",
      "metadata": {
        "colab": {
          "base_uri": "https://localhost:8080/"
        },
        "id": "Q6WjRsBoa9BJ",
        "outputId": "774e7c89-38f3-4202-d298-31a117632cb5"
      },
      "source": [
        "perc_englishrevewshelp = filterlanguages(helpfulreviews, english).shape[0]/topthreelang_reviews.shape[0]*100\n",
        "print(\"reviews written in english:\", perc_englishrevewshelp)\n",
        "perc_schineserevewshelp = filterlanguages(helpfulreviews, schinese).shape[0]/topthreelang_reviews.shape[0]*100\n",
        "print(\"reviews written in schinese:\", perc_schineserevewshelp)\n",
        "perc_russianrevewshelp = filterlanguages(helpfulreviews, russian).shape[0]/topthreelang_reviews.shape[0]*100\n",
        "print(\"reviews written in english:\", perc_russianrevewshelp)"
      ],
      "execution_count": 57,
      "outputs": [
        {
          "output_type": "stream",
          "name": "stdout",
          "text": [
            "reviews written in english: 17.866649853225262\n",
            "reviews written in schinese: 6.0012620240234105\n",
            "reviews written in english: 5.294811758030704\n"
          ]
        }
      ]
    },
    {
      "cell_type": "code",
      "metadata": {
        "colab": {
          "base_uri": "https://localhost:8080/",
          "height": 315
        },
        "id": "x1SNvs5WbJy5",
        "outputId": "1378b437-60e9-4454-9da2-0e78bf36bf88"
      },
      "source": [
        "percentagehelp = [perc_englishrevewshelp, perc_schineserevewshelp, perc_russianrevewshelp]\n",
        "plt.bar(topthreelanguages.index, percentagehelp)\n",
        "plt.title('Percentage of Helpful Reviews for each of Top Three Language')\n",
        "plt.xticks(rotation=90)\n",
        "plt.show()"
      ],
      "execution_count": 58,
      "outputs": [
        {
          "output_type": "display_data",
          "data": {
            "image/png": "[encoded data removed]",
            "text/plain": [
              "<Figure size 432x288 with 1 Axes>"
            ]
          },
          "metadata": {
            "needs_background": "light"
          }
        }
      ]
    },
    {
      "cell_type": "markdown",
      "metadata": {
        "id": "IKZ7XEpgF0Uv"
      },
      "source": [
        "Considering the reviews written in **english**, **schinese** and **russian**:\n",
        "* the percentage of reviews written in english and votes as helpful is equal to **17.866649853225262**.\n",
        "* the percentage of reviews written in schinese and votes as helpful is equal to **6.0012620240234105**.\n",
        "* the percentage of reviews written in russian and votes as helpful is equal to **5.294811758030704**."
      ]
    },
    {
      "cell_type": "code",
      "metadata": {
        "colab": {
          "base_uri": "https://localhost:8080/"
        },
        "id": "znvNNBCaJULL",
        "outputId": "807dd2c9-30dc-4c33-d784-7d7a5efb90f5"
      },
      "source": [
        "print(\"reviews written in english, schinese and russian:\",filterlanguages(helpfulreviews,topthreelanguages.index).shape[0]/topthreelang_reviews.shape[0]*100)"
      ],
      "execution_count": 55,
      "outputs": [
        {
          "output_type": "stream",
          "name": "stdout",
          "text": [
            "reviews written in english, schinese and russian: 29.162723635279374\n"
          ]
        }
      ]
    },
    {
      "cell_type": "markdown",
      "metadata": {
        "id": "9FBfYgBqFrk6"
      },
      "source": [
        "The percentage of reviews written in english, schinese and russian and votes as helpful is equal to **29.162723635279374**."
      ]
    },
    {
      "cell_type": "markdown",
      "metadata": {
        "id": "_Gt3yGyU0scf"
      },
      "source": [
        "**<h1>[RQ5]</h1>**  The reviews' authors are users from the game that provide their opinion on it. Now you can check how often they make reviews."
      ]
    },
    {
      "cell_type": "markdown",
      "metadata": {
        "id": "I8MPJJXd03yU"
      },
      "source": [
        "**[RQ5] a.** Plot the top 10 most popular reviewers and the number of reviews."
      ]
    },
    {
      "cell_type": "code",
      "metadata": {
        "colab": {
          "base_uri": "https://localhost:8080/",
          "height": 295
        },
        "id": "KJQi4xPhFbxo",
        "outputId": "1a00bd1c-c480-4587-a7b5-f67c7c2ae926"
      },
      "source": [
        "dataframe['author.steamid'] = dataframe['author.steamid'].astype(object)\n",
        "popularreviewers = dataframe.groupby(['author.steamid']).size().sort_values()\n",
        "popularreviewers.tail(10).plot.barh()\n",
        "plt.title(\"Top 10 most popular reviewers\")\n",
        "plt.ylabel (\"author ID\")\n",
        "plt.xlabel (\"number of reviews\")\n",
        "plt.show()"
      ],
      "execution_count": 59,
      "outputs": [
        {
          "output_type": "display_data",
          "data": {
            "image/png": "[encoded data removed]",
            "text/plain": [
              "<Figure size 432x288 with 1 Axes>"
            ]
          },
          "metadata": {
            "needs_background": "light"
          }
        }
      ]
    },
    {
      "cell_type": "markdown",
      "metadata": {
        "id": "ylqSApN3L6u7"
      },
      "source": [
        "**[RQ5] b.** What applications did the most popular author review?"
      ]
    },
    {
      "cell_type": "code",
      "metadata": {
        "colab": {
          "base_uri": "https://localhost:8080/"
        },
        "id": "G0QCI96LMF7m",
        "outputId": "5375846b-df99-4fbb-d932-a8770a805b7b"
      },
      "source": [
        "mostpopular = popularreviewers.tail(1).index[0]\n",
        "applications = list(dataframe[dataframe[\"author.steamid\"] == mostpopular].app_name.unique())\n",
        "print(\"The most popular author reviews\", len(applications), \"applications:\")\n",
        "for i in range (len(applications)):\n",
        "  print(applications[i])"
      ],
      "execution_count": 60,
      "outputs": [
        {
          "output_type": "stream",
          "name": "stdout",
          "text": [
            "The most popular author reviews 148 applications:\n",
            "Half-Life\n",
            "Counter-Strike: Source\n",
            "Half-Life 2: Episode Two\n",
            "Portal 2\n",
            "Garry's Mod\n",
            "Sid Meier's Civilization V\n",
            "Dead by Daylight\n",
            "Sid Meier's Civilization VI\n",
            "Subnautica\n",
            "Human: Fall Flat\n",
            "Banished\n",
            "Celeste\n",
            "Getting Over It with Bennett Foddy\n",
            "A Hat in Time\n",
            "The Forest\n",
            "Axiom Verge\n",
            "The Binding of Isaac: Rebirth\n",
            "To the Moon\n",
            "Cave Story+\n",
            "Titan Souls\n",
            "Super Meat Boy\n",
            "Don't Escape: 4 Days to Survive\n",
            "Volgarr the Viking\n",
            "Enter the Gungeon\n",
            "Salt and Sanctuary\n",
            "Hollow Knight\n",
            "The End Is Nigh\n",
            "Factorio\n",
            "RimWorld\n",
            "Insurgency: Sandstorm\n",
            "Euro Truck Simulator 2\n",
            "Foundation\n",
            "Kenshi\n",
            "Into the Breach\n",
            "Warhammer: Vermintide 2\n",
            "DOOM Eternal\n",
            "Age of Empires: Definitive Edition\n",
            "Void Bastards\n",
            "Stardew Valley\n",
            "Among Us\n",
            "Blackwake\n",
            "Little Nightmares\n",
            "Bomber Crew\n",
            "Rust\n",
            "HITMAN™ 2\n",
            "Phasmophobia\n",
            "Mount & Blade: Warband\n",
            "Resident Evil 2\n",
            "Slime Rancher\n",
            "Hotline Miami\n",
            "Tomb Raider\n",
            "BattleBlock Theater\n",
            "Dishonored\n",
            "South Park™: The Stick of Truth™\n",
            "Undertale\n",
            "Don't Starve\n",
            "Rocket League\n",
            "Dead Cells\n",
            "Broforce\n",
            "The Wolf Among Us\n",
            "The Walking Dead\n",
            "One Finger Death Punch\n",
            "Oxygen Not Included\n",
            "Cuphead\n",
            "ULTRAKILL\n",
            "Castle Crashers\n",
            "Townscaper\n",
            "Papers, Please\n",
            "GRIS\n",
            "DUSK\n",
            "Outlast\n",
            "FTL: Faster Than Light\n",
            "Dying Light\n",
            "American Truck Simulator\n",
            "Saints Row: The Third\n",
            "STAR WARS™ Empire at War: Gold Pack\n",
            "Age of Empires II (2013)\n",
            "Super Hexagon\n",
            "BioShock Infinite\n",
            "DOOM\n",
            "Black Mesa\n",
            "Finding Paradise\n",
            "Keep Talking and Nobody Explodes\n",
            "Duck Game\n",
            "Mark of the Ninja\n",
            "Phoenix Wright: Ace Attorney Trilogy\n",
            "Gunpoint\n",
            "PLAYERUNKNOWN'S BATTLEGROUNDS\n",
            "Monster Hunter: World\n",
            "The Elder Scrolls Online\n",
            "Total War: WARHAMMER II\n",
            "Cities: Skylines\n",
            "Stellaris\n",
            "Black Desert Online\n",
            "Kingdom Come: Deliverance\n",
            "Jurassic World Evolution\n",
            "ARK: Survival Evolved\n",
            "No Man's Sky\n",
            "Frostpunk\n",
            "Fallout 4\n",
            "DARK SOULS™ III\n",
            "Rise of the Tomb Raider\n",
            "Middle-earth™: Shadow of War™\n",
            "Hearts of Iron IV\n",
            "They Are Billions\n",
            "Total War Saga: Thrones of Britannia\n",
            "Total War: ROME II - Emperor Edition\n",
            "Terraria\n",
            "PAYDAY 2\n",
            "XCOM 2\n",
            "Deep Rock Galactic\n",
            "Hunt: Showdown\n",
            "Conan Exiles\n",
            "Two Point Hospital\n",
            "Total War: WARHAMMER\n",
            "The Elder Scrolls V: Skyrim Special Edition\n",
            "NieR:Automata™\n",
            "House Flipper\n",
            "Surviving Mars\n",
            "Ni no Kuni™ II: Revenant Kingdom\n",
            "Railway Empire\n",
            "Rise of Industry\n",
            "Devil May Cry HD Collection\n",
            "Heroes of Hammerwatch\n",
            "Ghost of a Tale\n",
            "Ancestors Legacy\n",
            "FAR: Lone Sails\n",
            "Totally Accurate Battlegrounds\n",
            "Vampyr\n",
            "Yakuza 0\n",
            "Thief Simulator\n",
            "Darksiders III\n",
            "Mutant Year Zero: Road to Eden\n",
            "Just Cause 4\n",
            "Planet Coaster\n",
            "Nioh: Complete Edition\n",
            "Europa Universalis IV\n",
            "Just Cause 3\n",
            "Resident Evil 7 Biohazard\n",
            "Urban Empire\n",
            "Youtubers Life\n",
            "Night in the Woods\n",
            "Northgard\n",
            "Sniper Elite 4\n",
            "Day of Infamy\n",
            "SimAirport\n",
            "Dead Rising 4\n",
            "Styx: Shards of Darkness\n"
          ]
        }
      ]
    },
    {
      "cell_type": "markdown",
      "metadata": {
        "id": "-KFHq7xdVmQH"
      },
      "source": [
        "**[RQ5] c.** How many applications did he purchase, and how many did he get as free? Provide the number (count) and the percentage."
      ]
    },
    {
      "cell_type": "code",
      "metadata": {
        "id": "05M8hA-oInrO"
      },
      "source": [
        "reviewmostpopauthor = dataframe[dataframe[\"author.steamid\"] == mostpopular]"
      ],
      "execution_count": 61,
      "outputs": []
    },
    {
      "cell_type": "code",
      "metadata": {
        "id": "wVycV2jSWA6K",
        "colab": {
          "base_uri": "https://localhost:8080/"
        },
        "outputId": "5520e18f-ea43-4b9f-c677-5de746567a32"
      },
      "source": [
        "reviewmostpopauthor = reviewmostpopauthor.drop_duplicates(subset =\"app_name\", keep = \"first\")\n",
        "freeapps = reviewmostpopauthor[reviewmostpopauthor['received_for_free'] == True].shape[0]\n",
        "freeappsperc = freeapps/len(applications)*100\n",
        "purchasedapps = len(applications) - freeapps\n",
        "purchasedappsperc = purchasedapps/len(applications)*100\n",
        "print(\"Number of free applications:\", freeapps)\n",
        "print(\"Percentage of free applications:\", freeappsperc)\n",
        "print(\"Number of purchased applications:\", purchasedapps)\n",
        "print(\"Percentage of purchased applications:\", purchasedappsperc)"
      ],
      "execution_count": 62,
      "outputs": [
        {
          "output_type": "stream",
          "name": "stdout",
          "text": [
            "Number of free applications: 4\n",
            "Percentage of free applications: 2.7027027027027026\n",
            "Number of purchased applications: 144\n",
            "Percentage of purchased applications: 97.2972972972973\n"
          ]
        }
      ]
    },
    {
      "cell_type": "code",
      "metadata": {
        "colab": {
          "base_uri": "https://localhost:8080/",
          "height": 545
        },
        "id": "gEq5slqUoVak",
        "outputId": "39140521-6f5a-40b3-b9fc-94a1ba3d009c"
      },
      "source": [
        "levels = [\"Free\",\"Purchased\"]\n",
        "numberapplications = [freeapps, purchasedapps]\n",
        "plt.barh(levels, numberapplications)\n",
        "plt.title(\"Number of Free and Purchased Applications reviewed by the most popular author.\")\n",
        "plt.show()\n",
        "\n",
        "percapplications = [freeappsperc, purchasedappsperc]\n",
        "plt.barh(levels, percapplications)\n",
        "plt.title(\"Percentage of Free and Purchased Applications reviewed by the most popular author.\")\n",
        "plt.show()"
      ],
      "execution_count": 63,
      "outputs": [
        {
          "output_type": "display_data",
          "data": {
            "image/png": "[encoded data removed]",
            "text/plain": [
              "<Figure size 432x288 with 1 Axes>"
            ]
          },
          "metadata": {
            "needs_background": "light"
          }
        },
        {
          "output_type": "display_data",
          "data": {
            "image/png": "[encoded data removed]",
            "text/plain": [
              "<Figure size 432x288 with 1 Axes>"
            ]
          },
          "metadata": {
            "needs_background": "light"
          }
        }
      ]
    },
    {
      "cell_type": "markdown",
      "metadata": {
        "id": "kbyC-J18oqIV"
      },
      "source": [
        "**[RQ5] d.** How many of the applications he purchased reviewed positively, and how many negatively? How about the applications he received for free?"
      ]
    },
    {
      "cell_type": "code",
      "metadata": {
        "colab": {
          "base_uri": "https://localhost:8080/"
        },
        "id": "HE7n3wvMpDtH",
        "outputId": "2534d83d-28bc-4ddf-8bfe-08b98f129d1d"
      },
      "source": [
        "freeapplications = reviewmostpopauthor[reviewmostpopauthor['received_for_free'] == True]\n",
        "free_pos = freeapplications[freeapplications[\"recommended\"] == True].shape[0]\n",
        "free_neg = freeapplications.shape[0]-free_pos\n",
        "purchasedapplications = reviewmostpopauthor[reviewmostpopauthor['received_for_free'] != True]\n",
        "purch_pos = purchasedapplications[purchasedapplications[\"recommended\"] == True].shape[0]\n",
        "purch_neg = purchasedapplications.shape[0] - purch_pos \n",
        "\n",
        "print(\"Number of free applications reviewed positively:\", free_pos)\n",
        "print(\"Number of free applications reviewed negatively:\", free_neg)\n",
        "print(\"Number of purchased applications reviewed positively:\", purch_pos)\n",
        "print(\"Number of purchased applications reviewed negatively:\", purch_neg)"
      ],
      "execution_count": 64,
      "outputs": [
        {
          "output_type": "stream",
          "name": "stdout",
          "text": [
            "Number of free applications reviewed positively: 4\n",
            "Number of free applications reviewed negatively: 0\n",
            "Number of purchased applications reviewed positively: 141\n",
            "Number of purchased applications reviewed negatively: 3\n"
          ]
        }
      ]
    },
    {
      "cell_type": "markdown",
      "metadata": {
        "id": "WCswiHT1yY__"
      },
      "source": [
        "**<h1>[RQ6]</h1>** It's time to get information from the updates that a user does to his reviews."
      ]
    },
    {
      "cell_type": "markdown",
      "metadata": {
        "id": "FpxAi5fqycxj"
      },
      "source": [
        "**[RQ6] a.** What is the average time (days and minutes) a user lets pass before he updates a review?"
      ]
    },
    {
      "cell_type": "code",
      "metadata": {
        "id": "Rx0nh7xxycR-",
        "colab": {
          "base_uri": "https://localhost:8080/"
        },
        "outputId": "a7e14667-0da5-4931-e3c5-977169a783a2"
      },
      "source": [
        "#FIRST, WE CALCULATE TIME DELTA BETWEEN TWO TIMESTAMPS\n",
        "import datetime as dt\n",
        "from datetime import timedelta\n",
        "dataframe2 = [dataframe[\"timestamp_updated\"], dataframe[\"timestamp_created\"]]\n",
        "dataframe[\"time_diff\"] = dataframe[\"timestamp_updated\"] - dataframe[\"timestamp_created\"] #Time delta\n",
        "time_avg = dataframe[\"time_diff\"].mean()  #Average time of updating, but it's in seconds\n",
        "delta = dt.timedelta(seconds = time_avg) \n",
        "print(\"The average time a user lets pass before he updates a rewiew is: {} days and {} minutes \".format(delta.days, (delta.seconds//60)))"
      ],
      "execution_count": 65,
      "outputs": [
        {
          "output_type": "stream",
          "name": "stdout",
          "text": [
            "The average time a user lets pass before he updates a rewiew is: 36 days and 213 minutes \n"
          ]
        }
      ]
    },
    {
      "cell_type": "markdown",
      "metadata": {
        "id": "bFIQc3gSymPi"
      },
      "source": [
        "**[RQ6] b.** Plot the top 3 authors that usually update their reviews."
      ]
    },
    {
      "cell_type": "code",
      "metadata": {
        "id": "uLBkP4Gfynhz",
        "colab": {
          "base_uri": "https://localhost:8080/",
          "height": 295
        },
        "outputId": "e2e4989d-435c-4bce-f3d1-9deaee51af73"
      },
      "source": [
        "#MASKING THE DATAFRAME FOR TIMESTAMP_CREATED IS NOT EQUAL TO TIMESTAMP_UPDATED\n",
        "mask_different_timestamp = dataframe.loc[dataframe[\"timestamp_created\"] != dataframe[\"timestamp_updated\"]]\n",
        "mask_different_timestamp.head()\n",
        "\n",
        "#Masking dataframe by timestamp_created is not equal to timestamp_updated\n",
        "#And then retreiving only author.steamid\n",
        "mask_different_timestamp[\"author.steamid\"].value_counts()[:3].sort_values().plot.barh()\n",
        "plt.title(\"Top 3 authors that usually update their reviews\")\n",
        "plt.xlabel(\"Author ID\")\n",
        "plt.show()\n"
      ],
      "execution_count": 66,
      "outputs": [
        {
          "output_type": "display_data",
          "data": {
            "image/png": "[encoded data removed]",
            "text/plain": [
              "<Figure size 432x288 with 1 Axes>"
            ]
          },
          "metadata": {
            "needs_background": "light"
          }
        }
      ]
    },
    {
      "cell_type": "markdown",
      "metadata": {
        "id": "K3HXJT5Xy4YY"
      },
      "source": [
        "**<h1>[RQ7]</h1>** Of course, calculating probabilities is a job that any Data Scientist must know. Let's compute Some interesting figures."
      ]
    },
    {
      "cell_type": "markdown",
      "metadata": {
        "id": "2ZU17fwzy_rQ"
      },
      "source": [
        "**[RQ7] a.** What’s the probability that a review has a Weighted Vote Score equal to or bigger than 0.5?\n"
      ]
    },
    {
      "cell_type": "markdown",
      "metadata": {
        "id": "BwwRWqwlMfUc"
      },
      "source": [
        "The probability that a review has a Weighted Vote Score equal to or bigger than 0.5 is given by the ratio between the number of review that have Weighted Vote Score equal to or bigger than 0.5 and the number of the reviews in the dataset. "
      ]
    },
    {
      "cell_type": "code",
      "metadata": {
        "id": "C9eszG7fzC56",
        "colab": {
          "base_uri": "https://localhost:8080/"
        },
        "outputId": "239d9492-7f33-4e53-8761-e73949ebd25e"
      },
      "source": [
        "mask_weighted_vote_more_than5 = dataframe.loc[dataframe[\"weighted_vote_score\"] >= 0.5] #Masking dataframe to have only weighted_vote_score >=0.5\n",
        "prob_weighted_vote_score_more_than5 = (len(mask_weighted_vote_more_than5)/ len(dataframe)) #Getting the probability by dividing masked dataframe by total length\n",
        "print(\"The probability that a review has a Weighted Vote Score equal to or bigger than 0.5 is {}\".format(prob_weighted_vote_score_more_than5))"
      ],
      "execution_count": 67,
      "outputs": [
        {
          "output_type": "stream",
          "name": "stdout",
          "text": [
            "The probability that a review has a Weighted Vote Score equal to or bigger than 0.5 is 0.21998484322541792\n"
          ]
        }
      ]
    },
    {
      "cell_type": "markdown",
      "metadata": {
        "id": "cAtkXxPlzCNA"
      },
      "source": [
        "**[RQ7] b.** What’s the probability that a review has at least one vote as funny given that the Weighted Vote Score is bigger than 0.5?"
      ]
    },
    {
      "cell_type": "markdown",
      "metadata": {
        "id": "JOLB_KZnNEBQ"
      },
      "source": [
        "The conditional probability that a review has at least one vote as funny given that the Weighted Vote Score is bigger than 0.5 is given by: the ratio between the number of reviews that has at least one vote as funny and  weighted vore score bigger than 0.5 and the number of reviews that have weighted vote score bigger than 0.5. "
      ]
    },
    {
      "cell_type": "code",
      "metadata": {
        "colab": {
          "base_uri": "https://localhost:8080/"
        },
        "id": "27o1GC8KTFD1",
        "outputId": "004053ba-37ff-4325-b2f9-389e9a78728d"
      },
      "source": [
        "#A = {a reviews has at least one vote as funny}\n",
        "#B = {the weighted vote score is bigger than 0.5}\n",
        "A = dataframe[dataframe[\"votes_funny\"] >= 1]\n",
        "B = dataframe[dataframe[\"weighted_vote_score\"] > 0.5]\n",
        "#individual probability of A and B.\n",
        "probA = A.shape[0]/dataframe.shape[0]\n",
        "probB = B.shape[0]/dataframe.shape[0]\n",
        "#intersection of A and B\n",
        "intersect = dataframe[(dataframe[\"votes_funny\"] >= 1) & (dataframe[\"weighted_vote_score\"] > 0.5)]\n",
        "prob_intersect = intersect.shape[0]/dataframe.shape[0]\n",
        "#conditional probability of A and B\n",
        "cond_prob = prob_intersect/probB\n",
        "print(\"The probability that a review has at least one vote as funny given that the Weighted Vote Score is bigger than 0.5 is\", cond_prob)\n"
      ],
      "execution_count": 68,
      "outputs": [
        {
          "output_type": "stream",
          "name": "stdout",
          "text": [
            "The probability that a review has at least one vote as funny given that the Weighted Vote Score is bigger than 0.5 is 0.24978288914523247\n"
          ]
        }
      ]
    },
    {
      "cell_type": "markdown",
      "metadata": {
        "id": "KIi53k5Tzi7c"
      },
      "source": [
        "**[RQ7] c.** Is the probability that “a review has at least one vote as funny” independent of the “probability that a review has a Weighted Vote Score equal or bigger than 0.5”?"
      ]
    },
    {
      "cell_type": "markdown",
      "metadata": {
        "id": "UMRwvdEjREg7"
      },
      "source": [
        "Considering that two events A and B are indipendent if the probability of A intersected B is equal to the product between the probability of A and the probability of B: "
      ]
    },
    {
      "cell_type": "code",
      "metadata": {
        "colab": {
          "base_uri": "https://localhost:8080/"
        },
        "id": "rbRX1Uggrdow",
        "outputId": "f5862e49-8043-498f-e11c-13b97b03103a"
      },
      "source": [
        "probAxB = probA * probB\n",
        "print(\"The probability of the intersection between A and B is:\", prob_intersect)\n",
        "print(\"The product between the probability of A and the probability of B is:\", probAxB)\n",
        "if (probAxB == prob_intersect):\n",
        "  print(\"A and B are indipendent\")\n",
        "else:\n",
        "  print(\"A and B are not dipendent\")"
      ],
      "execution_count": 69,
      "outputs": [
        {
          "output_type": "stream",
          "name": "stdout",
          "text": [
            "The probability of the intersection between A and B is: 0.05333872310358802\n",
            "The product between the probability of A and the probability of B is: 0.025559911597138187\n",
            "A and B are not dipendent\n"
          ]
        }
      ]
    },
    {
      "cell_type": "markdown",
      "metadata": {
        "id": "QhStry2HihN9"
      },
      "source": [
        "**<h1>[RQ8]</h1>** Every decision you take in a data-based environment should be reinforced with charts, statistical tests and analysis methods to check if a hypothesis is correct or not.\n"
      ]
    },
    {
      "cell_type": "markdown",
      "metadata": {
        "id": "P9qw745riwP2"
      },
      "source": [
        "**[RQ8] a.** Is there a significant difference in the Weighted Vote Score of reviews made in Chinese vs the ones made in Russian? Use an appropriate statistical test or technique and support your choice."
      ]
    },
    {
      "cell_type": "markdown",
      "metadata": {
        "id": "x582dQx-cEF3"
      },
      "source": [
        "In order to understand what is the most appropriate statistical test or techinique to apply it is important to understand how is distributed the variable. In particular, in order to understand if the variable has a **normal** distribution, it's possibile to use the **qqplot** and to do the **Jarque - Bera Test**. "
      ]
    },
    {
      "cell_type": "code",
      "metadata": {
        "colab": {
          "base_uri": "https://localhost:8080/"
        },
        "id": "JKh-aWPdvCLO",
        "outputId": "666ce3ad-a561-4259-a1b8-c2cbae8d5a27"
      },
      "source": [
        "from scipy import stats\n",
        "s, p = stats.jarque_bera(dataframe[\"weighted_vote_score\"])\n",
        "alpha = 0.05\n",
        "if p > alpha:\n",
        "  print(\"The null hypothesis is not rejected, the variabile is distributed as a Normal.\")\n",
        "else:\n",
        "  print(\"The null hypothesis is rejected, the variable is not distributed as a Normal.\")\n",
        "#p-value < 0.5, we reject the null hypothesis that say the variable is distributed as a normal."
      ],
      "execution_count": 70,
      "outputs": [
        {
          "output_type": "stream",
          "name": "stdout",
          "text": [
            "The null hypothesis is rejected, the variable is not distributed as a Normal.\n"
          ]
        }
      ]
    },
    {
      "cell_type": "code",
      "metadata": {
        "colab": {
          "base_uri": "https://localhost:8080/",
          "height": 295
        },
        "id": "Z_fUvASKXU1-",
        "outputId": "663d8cde-bb7a-48df-ec08-db51ce2f437f"
      },
      "source": [
        "import statsmodels.api as sm\n",
        "sm.qqplot(dataframe[\"weighted_vote_score\"], line='45')\n",
        "plt.title(\"Weighted Vote Score\")\n",
        "plt.show()"
      ],
      "execution_count": 71,
      "outputs": [
        {
          "output_type": "display_data",
          "data": {
            "image/png": "[encoded data removed]",
            "text/plain": [
              "<Figure size 432x288 with 1 Axes>"
            ]
          },
          "metadata": {
            "needs_background": "light"
          }
        }
      ]
    },
    {
      "cell_type": "code",
      "metadata": {
        "colab": {
          "base_uri": "https://localhost:8080/",
          "height": 390
        },
        "id": "fxahAFe6i5ZF",
        "outputId": "4d5fe18d-7c4a-4f0b-bb64-80ec1f2faf3c"
      },
      "source": [
        "plt.figure(figsize=(8,6))\n",
        "plt.hist(russianreviews, bins=100, alpha=0.9, label=\"russian\", density = True)\n",
        "plt.hist(chinesereviews, bins=100, alpha=0.7, label=\"chinese\", density = True)\n",
        "plt.ticklabel_format(useOffset=False, style='plain', axis='y')\n",
        "plt.title(\"Weighted Vote Score for Russian and Chinese Reviews\")\n",
        "plt.legend(loc='upper right')\n",
        "plt.show()"
      ],
      "execution_count": 72,
      "outputs": [
        {
          "output_type": "display_data",
          "data": {
            "image/png": "[encoded data removed]",
            "text/plain": [
              "<Figure size 576x432 with 1 Axes>"
            ]
          },
          "metadata": {
            "needs_background": "light"
          }
        }
      ]
    },
    {
      "cell_type": "code",
      "metadata": {
        "colab": {
          "base_uri": "https://localhost:8080/"
        },
        "id": "2E49Bur_UYfp",
        "outputId": "d1ffa8e5-ca38-4abc-c415-39ebcc833369"
      },
      "source": [
        "import statistics\n",
        "print(\"Variance of Weighted Vote Score for Russian Reviews:\", statistics.pvariance(russianreviews))\n",
        "print(\"Variance of Weighted Vote Score for Chinese Reviews:\", statistics.pvariance(chinesereviews))"
      ],
      "execution_count": 73,
      "outputs": [
        {
          "output_type": "stream",
          "name": "stdout",
          "text": [
            "Variance of Weighted Vote Score for Russian Reviews: 0.06643560228551207\n",
            "Variance of Weighted Vote Score for Chinese Reviews: 0.05745690983946287\n"
          ]
        }
      ]
    },
    {
      "cell_type": "markdown",
      "metadata": {
        "id": "q_G8xr4lb9iy"
      },
      "source": [
        "As it's possible to see in the previous plots (histograms and qqplots), and interpreting the result of the Jarque-Brera the variable **\"weighted_vote_score\"** is not distribute as a Normal Variable, so it isn't possible to use the t-test. We don't know how is distribute the variable and because of this it's possible use the **Mann-Whitney U test**, that is a non-parametric test. This test is preferable also to **Kolmogorov-Smirnov test** because we are considering very large samples. Under the **null hypothesis** there aren't difference between the weighted vote score for reviews written in Russian and reviews written in Chinese. Instead, under the **alternative hypothesis** there are differences between the weighted vote score for reviews written in Russian and reviews written in Chinese."
      ]
    },
    {
      "cell_type": "code",
      "metadata": {
        "id": "KNKnfXD5XkLA"
      },
      "source": [
        "russian = [\"russian\"]\n",
        "chinese = [\"tchinese\", \"schinese\"]\n",
        "russianreviews = list(filterlanguages(dataframe, russian)[\"weighted_vote_score\"])\n",
        "chinesereviews = list(filterlanguages(dataframe, chinese)[\"weighted_vote_score\"])"
      ],
      "execution_count": 6,
      "outputs": []
    },
    {
      "cell_type": "code",
      "metadata": {
        "colab": {
          "base_uri": "https://localhost:8080/"
        },
        "id": "rlZPCF6CitQC",
        "outputId": "0dfedb92-fe67-4b88-f67b-f35137139c46"
      },
      "source": [
        "from scipy.stats import mannwhitneyu\n",
        "u, p = mannwhitneyu(chinesereviews, russianreviews)\n",
        "alpha = 0.05\n",
        "if p > alpha:\n",
        "  print(\"The null hypothesis is not reject, there aren't significative differences.\")\n",
        "else:\n",
        "  print(\"The null hypothesis is rejected, there are significative differences.\")"
      ],
      "execution_count": 8,
      "outputs": [
        {
          "output_type": "stream",
          "name": "stdout",
          "text": [
            "The null hypothesis is rejected, there are significative differences.\n"
          ]
        }
      ]
    },
    {
      "cell_type": "markdown",
      "metadata": {
        "id": "Gq1fIhMQkjav"
      },
      "source": [
        "**[RQ8] b.** Can you find any significant relationship between the time that a user lets pass before he updates the review and the Weighted Vote Score? Use an appropriate statistical test or technique and support your choice."
      ]
    },
    {
      "cell_type": "code",
      "metadata": {
        "colab": {
          "base_uri": "https://localhost:8080/",
          "height": 328
        },
        "id": "br0MbZwBkqp8",
        "outputId": "ca9bcc7f-f0f7-45a7-c889-77bab4aeeaea"
      },
      "source": [
        "dataframe2 =  dataframe.filter(['timestamp_created', 'timestamp_updated', 'weighted_vote_score', \"recommended\"])\n",
        "dataframe2[\"DiffTime\"] = dataframe2.timestamp_updated - dataframe2.timestamp_created\n",
        "plt.scatter(dataframe2[\"DiffTime\"], dataframe2[\"weighted_vote_score\"], alpha=0.5)\n",
        "plt.ticklabel_format(useOffset=False, style='plain', axis='x')\n",
        "plt.xticks(rotation=90)\n",
        "plt.title(\"DiffTime vs Weighted Vote Score\")\n",
        "plt.show()"
      ],
      "execution_count": 9,
      "outputs": [
        {
          "output_type": "display_data",
          "data": {
            "image/png": "[encoded data removed]",
            "text/plain": [
              "<Figure size 432x288 with 1 Axes>"
            ]
          },
          "metadata": {
            "needs_background": "light"
          }
        }
      ]
    },
    {
      "cell_type": "markdown",
      "metadata": {
        "id": "wiBth7nfY16D"
      },
      "source": [
        "In order to understand if there is a linear relationship between the variables it's possible to use the **Pearson's Correlation Coefficient**. "
      ]
    },
    {
      "cell_type": "code",
      "metadata": {
        "colab": {
          "base_uri": "https://localhost:8080/"
        },
        "id": "cTqI_tXPkzEN",
        "outputId": "a9112ba2-6dec-44e6-a08e-0e6cf9306743"
      },
      "source": [
        "#Pearson's Correlation Coefficient\n",
        "from scipy.stats import pearsonr\n",
        "pearsonr(dataframe2[\"DiffTime\"], dataframe2[\"weighted_vote_score\"])"
      ],
      "execution_count": 10,
      "outputs": [
        {
          "output_type": "execute_result",
          "data": {
            "text/plain": [
              "(0.07204700562312769, 0.0)"
            ]
          },
          "metadata": {},
          "execution_count": 10
        }
      ]
    },
    {
      "cell_type": "markdown",
      "metadata": {
        "id": "-PfA1re_ZQvo"
      },
      "source": [
        "The Pearson's Correlation Coefficient is equal to **0.07204700562312769**, so it's possible to say that there isn't a linear relationship between the two variables."
      ]
    },
    {
      "cell_type": "markdown",
      "metadata": {
        "id": "OQc6TwJJZnEh"
      },
      "source": [
        "In order to understand if there is a general relationship between the variables it's possible to use the **Spearman's Correlation Coefficient**. "
      ]
    },
    {
      "cell_type": "code",
      "metadata": {
        "colab": {
          "base_uri": "https://localhost:8080/"
        },
        "id": "_Q2KZ1yNkwAr",
        "outputId": "98ae9b72-4293-42c1-c5cf-76c22f47a276"
      },
      "source": [
        "#Spearman's Correlation Coefficient\n",
        "#for not linear correlation\n",
        "from scipy.stats import spearmanr\n",
        "spearmanr(dataframe2[\"DiffTime\"], dataframe2[\"weighted_vote_score\"])"
      ],
      "execution_count": 11,
      "outputs": [
        {
          "output_type": "execute_result",
          "data": {
            "text/plain": [
              "SpearmanrResult(correlation=0.1442501958037846, pvalue=0.0)"
            ]
          },
          "metadata": {},
          "execution_count": 11
        }
      ]
    },
    {
      "cell_type": "markdown",
      "metadata": {
        "id": "KbeeW4jNZyHz"
      },
      "source": [
        "The Spearman's Correlation Coefficient is equal to **0.1442501958037846**, so it's possible to say that there isn't  relationship between the two variables."
      ]
    },
    {
      "cell_type": "markdown",
      "metadata": {
        "id": "lB7JFX_e5de3"
      },
      "source": [
        "**[RQ8] c.** Is there any change in the relationship of the variables mentioned in the previous literal if you include whether an application is recommended or not in the review? Use an appropriate statistical test or technique and support your choice."
      ]
    },
    {
      "cell_type": "code",
      "metadata": {
        "colab": {
          "base_uri": "https://localhost:8080/"
        },
        "id": "JYqwNtyF5nAt",
        "outputId": "2a23c61c-1241-4876-fd9e-091c08ebdd64"
      },
      "source": [
        "dataframetrue = dataframe2[dataframe2[\"recommended\"] == True]\n",
        "spearmanr(dataframetrue[\"DiffTime\"], dataframetrue[\"weighted_vote_score\"])"
      ],
      "execution_count": 19,
      "outputs": [
        {
          "output_type": "execute_result",
          "data": {
            "text/plain": [
              "SpearmanrResult(correlation=0.1458869156651231, pvalue=0.0)"
            ]
          },
          "metadata": {},
          "execution_count": 19
        }
      ]
    },
    {
      "cell_type": "code",
      "metadata": {
        "colab": {
          "base_uri": "https://localhost:8080/"
        },
        "id": "zQP4uhEl9xWk",
        "outputId": "9b9ecbd6-7b04-4157-e775-66dabb1a775f"
      },
      "source": [
        "dataframefalse = dataframe2[dataframe2[\"recommended\"] == False]\n",
        "spearmanr(dataframefalse[\"DiffTime\"], dataframefalse[\"weighted_vote_score\"])"
      ],
      "execution_count": 20,
      "outputs": [
        {
          "output_type": "execute_result",
          "data": {
            "text/plain": [
              "SpearmanrResult(correlation=0.07239747512010913, pvalue=0.0)"
            ]
          },
          "metadata": {},
          "execution_count": 20
        }
      ]
    },
    {
      "cell_type": "code",
      "metadata": {
        "colab": {
          "base_uri": "https://localhost:8080/",
          "height": 607
        },
        "id": "Ri0GewAj9-lK",
        "outputId": "30a1cad5-df37-49c4-9a69-518039041d62"
      },
      "source": [
        "plt.scatter(dataframetrue[\"DiffTime\"], dataframetrue[\"weighted_vote_score\"], alpha=0.5)\n",
        "plt.ticklabel_format(useOffset=False, style='plain', axis='x')\n",
        "plt.xticks(rotation=90)\n",
        "plt.title(\"DiffTime vs Weighted Vote Score, Recommended = True\")\n",
        "plt.show()\n",
        "\n",
        "plt.scatter(dataframefalse[\"DiffTime\"], dataframefalse[\"weighted_vote_score\"], alpha=0.5)\n",
        "plt.ticklabel_format(useOffset=False, style='plain', axis='x')\n",
        "plt.xticks(rotation=90)\n",
        "plt.title(\"DiffTime vs Weighted Vote Score, Recommended = False\")\n",
        "plt.show()"
      ],
      "execution_count": 21,
      "outputs": [
        {
          "output_type": "display_data",
          "data": {
            "image/png": "[encoded data removed]",
            "text/plain": [
              "<Figure size 432x288 with 1 Axes>"
            ]
          },
          "metadata": {
            "needs_background": "light"
          }
        },
        {
          "output_type": "display_data",
          "data": {
            "image/png": "[encoded data removed]",
            "text/plain": [
              "<Figure size 432x288 with 1 Axes>"
            ]
          },
          "metadata": {
            "needs_background": "light"
          }
        }
      ]
    },
    {
      "cell_type": "markdown",
      "metadata": {
        "id": "VcO-jv81aijA"
      },
      "source": [
        "If we include whether an application is recommended or not in the review there isn't any change as it's possible to see observing the plot and the Spearman's Correlation Coefficients. "
      ]
    },
    {
      "cell_type": "markdown",
      "metadata": {
        "id": "-6ipliGCBwtN"
      },
      "source": [
        "**[RQ8] d.** What are histograms, bar plots, scatterplots and pie charts used for?"
      ]
    },
    {
      "cell_type": "markdown",
      "metadata": {
        "id": "zf5QqTYiQirh"
      },
      "source": [
        "**Histograms**, **Bar Plots**, **Scatterplots** and **Pie Charts** are useful plots used in exploratory data analysis in order to understand what are the characteristics of the data. More specifically:\n",
        "*   **Histogram**: A histogram is a plot used to display frequency distributions when there are numerical data.\n",
        "*   **Barplot**: A bar plot is a plot that display data using rectangular bars or columns that represent the frequency of observations in the data for that category.\n",
        "*   **Scatterplot**: A scatter plot  is a type of plot using Cartesian coordinates to display values for two variables for a set of data.\n",
        "*   **Pie Charts**: A pie chart is a representation of data in the form of a circular chart or pie where the slices of the pie show the percentage of the data in a category.\n"
      ]
    },
    {
      "cell_type": "markdown",
      "metadata": {
        "id": "iSBZJ1c3eYfD"
      },
      "source": [
        "**[RQ8] e.** What insights can you extract from a Box Plot?"
      ]
    },
    {
      "cell_type": "markdown",
      "metadata": {
        "id": "xghLG-VEes1Y"
      },
      "source": [
        "From a **Box Plot** it is possible to extract:\n",
        "* minimum: the lowest data point excluding any outliers\n",
        "* maximum: the highest data point excluding any outliers.\n",
        "* median: the middle value of the dataset.\n",
        "* first quartile\n",
        "* third quartile \n",
        "* interquartile range: the difference between the third quartile and the first quartile. \n",
        "* lower and upper extremes"
      ]
    },
    {
      "cell_type": "markdown",
      "metadata": {
        "id": "7wsZ-vI-YPhA"
      },
      "source": [
        "**<h3> TQ1 <h3>**\n",
        "* **TQ1. 1** What does the algorithm compute? </p>\n",
        "It find the maximum. \n",
        "\n",
        "\n",
        "<b>What is asymptotically  the running time of the algorithm in the worst case, as a function of n?</b>\n",
        "<br>The size of the initial array is n.\n",
        "<br>set L = [all the elements of A with value <= s]\n",
        "<br>\n",
        "set R = [all the elements of A with value > s]\n",
        "<br>To assign the values to the arrays L and R we have to loop, in the worst case, n times the initial array for two times. This give us a big-O complexity of O(2n).\n",
        "\n",
        "</p>\n",
        "<b>What is asymptotically the running time of the algorithm in the best case?</b>\n",
        "<p>\n",
        "set L = [all the elements of A with value <= s]\n",
        "<br>\n",
        "set R = [all the elements of A with value > s]\n",
        "<br>In the best case scenario the algorithm have to iterate n times only one of the two arrays. So until this point we have a complexity of o(n).<br>\n",
        "if k == r:<br>\n",
        "return s\n",
        "<br>This is the condition that returns the output of the function. In the best case this condition is encountered on the first iteration with a complexity of o(1).\n",
        "So the complexity in the best scenario is o(n).\n",
        "</p>\n",
        "\n",
        "<h3>Second question</h3>\n",
        "<b>How much running time does it take to execute splitSwap(a, 0, n)? (We want a Big O analysis.)</b><br>\n",
        "<p>The given array will be break in half in the recursive steps, firstly the first half then the second one. This operation is made until the size of the sub arrays is equal or less to 1, then the swaplist function is called. This last function swaps the elements of the arrays.<br>\n",
        "By splitting the arrays we create a binary tree of sub arrays, where the root node is the original array. So, because the algorithm in every step splits the array in half, we have a complexity of O( log(n) ) for this operations. At this analysis we have to add two O(n) complexities for the merging operation of the sub arrays and for the swapList function, which iterates over all the subarrays to swap the elements. In conclusion, the complexity overall is O( n^2 * log(n) ).</p>\n",
        "<br><b>What does this algorithm do? Is it optimal? Describe the mechanism of the algorithm in details, we do not want to know only its final result.</b><br>\n",
        "<p>The algorithm sort the original array by using a 'Merge sort' approach. The original array is split in half everytime the recursive steps are reached, so that when the binary tree of the sub arrays is created, the swapList function is called on every node of this tree to swap the elements. At the end of this algorithm, the function will return the original array sorted.</p>\n",
        "\n",
        "<h3>Third Question</h3>\n",
        "\n",
        "<p>\n",
        "In the knapsack problem we are given n objects and each object i has a weight w_i and a value v_i. We are also given a weight budget W. The problem is to select a set of objects with total weight bounded by W that maximized the sum of their values. The following are three natural heuristics:\n",
        "</p>\n",
        "\n",
        "W_max = Weight Budget<br>\n",
        "\n",
        "1. Order them in increasing order of weight and then visit them sequentially, adding them to the solution as long as the budget is not exceeded\n",
        "\t\n",
        "\t=> sort the items by their weight and add them until total_weight < W_max\n",
        "\n",
        "2. Order them in decreasing order of values, and then visit them sequentially, adding them to the solution if the budget is not exceeded.\n",
        "\n",
        "\t=> reverse sort the items by their value and add them until total_weight < W_max\n",
        "\n",
        "3. Order them in decreasing relative value (v_i / w_i), and then visit them sequentially, adding them to the solution if the budget is not exceeded\n",
        "\n",
        "\t=> reverse sort the items by value/weight and add them until total_weight < W_max\n",
        "\n"
      ]
    },
    {
      "cell_type": "markdown",
      "metadata": {
        "id": "5uijibxITyOB"
      },
      "source": [
        "![Immagine 2021-10-31 180512.png](data:image/png;base64,iVBORw0KGgoAAAANSUhEUgAAARsAAADyCAYAAAB9EWHfAAAAAXNSR0IArs4c6QAAAARnQU1BAACxjwv8YQUAAAAJcEhZcwAAEnQAABJ0Ad5mH3gAACSpSURBVHhe7Z1fqFxXvcf3uV7urcmNVVMtiBViSyGtIo0VMRDjQ0tKfBBP0IeGNHJKxRcxQh4qkTwUfTJgOL7UBKUS2kAlGjGCtYWSCn3J0VpCPS+N3HtSSsQT0xLsEa63c/NZZ36T31mz95k9c/ZeM7P39wOLmdmzZ/9Z67d+67fWnvVdM+f/5387t/z7TPaef8uEEKI2Zv77rf/r/Nd/3HA2M90tQghRAzPL77zb2YKzUWQjhKiRmWsrN5zNfyqyEULUi+IZIUQS5GyEEEmQsxFCJEHORgiRBDkbIUQS5GyEEEmQsxFCJEHORkwsb731Vva1r30tJN4Pyx/+8Ifsi1/8YvaXv/ylu6UZcF8f//jHe4nP04CczRgoqkS/+tWvsu9+97vZP//5z+6W6YFr5tq5hxi730mtFCmubz3HR54N41A//elPh+P88Y9/zD7/+c93t04+cjZj5H3ve192/vz57qfp5pZbbsluv/32bGlpqbtlLbfeemv2gQ98oPupHO9///uzp556KiTeTzN33nln9qEPfSi7ePFid8sqOOkLFy4EBzLt9zgIOZsx8rnPfS5bXFycykhGDAeOBIeCY/Hl/eabb2avvPJKtnPnzu6W5iJnM0buvvvubPPmzdlrr73W3dIPIbbvn//oRz/qfrMamtN1OX36dPgufu+NOj5OXndno3zsYx/rvrt5bVzD3//+97Dtgx/8YHgF7sNfj+/C8Bt+a9/F92LQlaBr4o9D8nkEly5dWrOfnct+v2PHjuyll17KvvKVr/T2KTrnRsCh4FhwMAaRDhEPkY+xXpmXwfLP/862xeWewi4MOZsxgwG+/PLL3U9r8ZWC9MILL2S//e1v1xjEM888ky0vL4fvMGQc17lz57LLly/3jJr9f/nLX4Y+vvX1+VyHYf31r38Nhs09xRXLoBKw35///OfefR09erR3v3TJvve974XvfvjDH4ZtMYxvPPHEE9nXv/71sB/Hevjhh7Nvf/vb2Te/+c3uXlmIHJ9++umQ7HjcO9dI5frNb37TG/v4+c9/HvYhcX6uo0rirhTXEHehypR5VaS0C5CzGTP33ntv9o9//CMUdgxG+KUvfan7Kcs+8pGPZPfdd1/30yrbt28PrTPcdttt2dzc3JpKQqXEgKiAZtC8fvnLX+4L6avCjrlv376+MQruc2FhYc11UukfeuihQqebB9FSp9PJPvnJT4bPHOszn/lMz9kZ5A+OzO79ox/9aPbGG2/Uct+DiLtSOGIaBSs/KFPmVTAOu5CzGTNUEipEXCnBnpJYiHvPPfeESGYUfBeBRARQNVaR6bbQPfzUpz4VDJdKtWXLlp5zIRJ74IEH1lxPUQRTBF2ymZmZviiBQWrvbCcN35Xi2u+4447gUIwqy7wMKezCkLOZAHbv3h0qytWrV7tbVivPsWPHQktnIbV1FUbBdxEs1dFVgFdffTXbunVrbxxiZWUlvBpEYHQP4uvx3Z+yUDmsUuJoRjlGSqwrhbOhzInGrAyqLvMypLQLOZsJgPCVivKnP/2puyWf5557buhWzkJ3xkloNeuER9t/+9vfsjNnzoTujd3Xr3/9617EQStOa/7Tn/50Q6E6fxkgkrJxH9Kojobr4ljDdONGxcrj5MmToQtl3cAiRilz7of8ti4lCQfij5PSLgw5mwmBfjvdDwODof9M98JCXP7DMkqYSyXEsHjqYsci1TUQyBiDdQ3oNjBgbXBfPBUBohF/PfFTIrZxv1QS9mUb38GePXvCa3yMYf4cZ3BNjCExEGvHqeNplEGe/P73v+/rQpUtcxwE38VP0fzTpwMHDoQuLflDIoKKj5PaLiQLKqYSe6KFU6CSgrXg09CdaiOKbERjYByEwVf/fx8xOSiyEVMJXaVDhw6FboSHAU+6BmLykLMRQiRB3SghRBLkbIQQSZCzEUIkQc5GCJEEORshRBLkbIQQSZCzGRH7S/2of2vnL+F1/iVeiEmj0NnY/AuSn5PSZHAAfo4ISQ5h+jHZhqJ5U3G51zU3aNKI77vuep7rbHA0TIozBS/U0Jhr0gaHg2Kb3TcziuEb3/hGn5FSOKi81TUdX1QDtsw/jYtWIcDOvVod0hcnTpzoTQptMoh0cc+WqOeoHw47kbUsfc6GkzL7FefCNHRghi0zealcbcJmAyOb4Gdki+nAHAarM6CvkwdTG/zqDaaMl0JuYtJA7gL1Q9OMrpo+Z3Pt2rU+AWbT1IglF9sCYk+2DImF5BZ6+mn9Mb4rOmhfKgb7xKF+HOr6Y9AwxONGvPJ50HHa0FXAkWj2d3kIJmLZiyrpczZoYCAkRKtuhoui2Pe///2xabeOC+4VkSdfALSAtIRU9CJtGcs33xUlFRk+DgSdXEJ438pay2y/j8WvcRoIeVMuNAiAKBOfjx8/3jsO+6cUtp5mbOY4mjNtwDdC2Nvhw4drGxYoHCBGlBrRHcR8GJfYtGlT95tmwyxiExMy0aFhx2VY4QCD9ULbeZgoFBEj6nac00PLPEj8muNznl/84hdhGReckT8v0U1qYetphbxizII8Roi+DfhxG2wE27dGrmr6nA1RDZUAo2WA1E/Xt4inyfgBYpKv7MNAV9Svk5QH2rIMyhUteRJ32XBMXtrR4LvZ2dnsyJEjobLETgtSCltPI+Q1A8nYOFFp0+08D+o6dlHXeFWfs2FsArV/Wj7LcFq/WJxZVAMGzjIm8VMA8rys+DUtEdELWi7z8/Nh35iUwtbThhzNKtgcUXZd4mN9zoZWD+NnHMGMn/EAxgFYBUAMxgbXcRZluimPPfZYMHQM3jucmDzxa5wG3SZCYBwTEY53XHSZ2O7LU9xEjuYm2BdR9iAR9lHJHbMxw7WxC1pNP+DYZogirCuCMLWJU/unP+TTk08+Gd7T9bH9i55GYeAMzMH+/fuDA2HbIPFrroX1l2gcKC/gbwpUHDsOxOVpqekDxNw/T+u4V/LNj8fZuASrNLDdxs98/tQ1djEpYI/+fum95I0dVoWU+oQQSSh8GiWEEFUiZyOESIKcjRAiCXI2QogkyNkIIZIgZyOESIKcjRAiCXI2QogkyNkIIZIgZ1MDTAOIxavGiZ9iQWr63/DFZLKus7G5EzLOtfg5N5YmeZ4R86K4ZqQzirR420zsjNsiKsYkYSaf2n2PRfDcMh85TOQmxE3IGyY/MrOagrE0qu6NGC+Up6kkmkNui4ohqo633357z4aTC55zIjKbTP/sZz/b3SoMhIXQlGmLkluToWXH1qlkNK7AjH1mybdBxZD7JBlIS9Qp7t/nbMhsRJUkJ5EPwkLIESD9OQgMdr0QNZ7i7yUoLLrk1ZM3HsQ2f5y2dAPqAgG569evN97ZpEYDxENCdwltFJPZLKrYaKSglYK6Hk4GzRm/FA6OBVU0+55IEsdiDofIiQjKSzRi/DgwdG6sMeD8FonacdrSDdgoaAahPkl+mfMmjxG5f/3112tb0mRSuXjxYt/KKlUiZzMChJ5UbJwOKS8CYSDWK9UTEdlSOPwWjWcvvWrhO8fB8E08yz4DOsWXL1/uKalZl5ffmfPhld+1oRtQBTQeXlhs3759rewiY2fYsm/IqkbOZgN4p0NE4rs2g/BrUXnoM1uLai0MERIQGd1///2hUngkZr4xrBxJ5PHdd98dVlioa/2kSQNHgw2hClnngw45mwpgjSHvJDaCX5XBRylXrlwJRpG3npHEzKuDaJBosS3i/qkcDcjZbBAzzmFaQvZj4TvGBqyrQ1REdBSHsYjMM1j54osvBm1hH+KzH12AYaMqkQ9lgZMGtJybTkpHA33Ohgy3P/rwf5LFxcVemG6Dl23F540lRLL5r8IwkQT7cRwwkW3GDHA0caHjUO66666wJhTfx+egCzBIzJxys3MwcK3yvAlRoP1Bk7IYZVHCacQaSbBxR0t1/ftdgudCiCSoGyWESIKcjRAiCXI2QogkyNkIIZIgZyOESIKcjRAiCXI2QogkyNkIIZIgZyOESIKcTQuxaRfSvBEpyXU2zItgfkTdcyWajJ9zY0mVezyYPefZcV45kZik2AZs3hwpueA5rd6xY8fCpD9OTGKiH9v4TgwGQ5Uo+mRAZTp06NC6q0qgLWSC55aw+aZD3ni1SOzVtH3qoM/ZMNuVWa++YqCh8sorrwSlODEYiaJPBhadPPXUU9nWrVvDe7EKDmVhYSGbm5vrzXDHwSJfizxoHWjMpgYGiaLTncqTd8gbS/FhLin+HfvyG8S1rOubFw6znx0DKQWur+lQeWipRXmw3aWlpe6nainlbGip2ySTuFGICtEIMd2YeKwGESzTI/bw+Y033gjfQxzmxqLoBo7j0UcfDesfsR+tkxfm4vxol5goOscj8hKrLC8vh26vOeO8hqBpmICbF+HHNk6cOJFrm1Uw0NlgqCh55Qk3iWK8PrGJE/lBR5wKBco+Bw8eDK9w6623Bm1iPg8SRTdYSNAiIKDba8dnv1gUXdyEPKPCkd8kxm7I96Y7HGwKQX5syZwsDdSuXbu6e1TPus4GR0NFQeO2DQNmdeCdDgZM5ceZdDqdoFlM/xgHw6tpGJsGcRlRdPC6xUBZMU6Bc2E/zpV3HNEPlY5F62KH3kSwD+zEHC1jtZs3b65Nf7nQ2cjRVIsXRccxUNBEHvSPiWyQX2UAfsuWLQMLOnYu68F+MzMz2bVr17pbxCAoE7qybYvkcTgMGttSQVWT62zkaKoFp+JF0TFinMqrr74aWhLy+MMf/nBYEwo9Y74fRhR9PTgWFccWu+NYtGBtGCAeBSKaNg4b4GiIwmdnZ3vd8cpBg/hf794ItLvcaAE7N1razrZt2/rSkSNHOisrK909RR7kD/kU5938/Hx3j1X4vHfv3s6lS5fC5xstStjv7Nmz4TPkHct/D3ymvCi3IuIy5VycPz5W0yBvyWOffz4PwPLd0qC8bBKUv923t8W6kOC5ECIJpR59CyHERpGzEUIkQc5GCJEEORshRBLkbIQQSZCzEUIkQc5GCJEEORshRBLkbIQQSZCzEUIkIdfZmDaKpSYJnsf3xqTTccGkP4nJjx9sYFJsogzx9RYJlcf7YW8xZfapjHgiZh5M2pv2SZg2GTG+j9/97ne1T0ArgkmAbZr4N4nEZWCTN22i5jSQNxmXbXkTff19ldmnSkp1o7zy27Ry6tSpILWAXq+XDnjwwQeDRxftxAuNAdIeSIGYJMc0gP7MjbrcE1QjUkbSBBEws23uE9kYtlOPy+xTNQOdDSfl5FxIWQ2VSYOMJTwso0BGOOrXEcI5WcZznG9961vZ888/H/Yh+fc+lI2PQ7IQ1UJXNIpfeumlbMeOHb194hA+7vbx2eC6TCDd7+ev2YjD5fg8YnpB1hTtI9MIN3VGL4KF7aHTY0FDmX2qptDZmPGixA+PPfZYeJ1GyFhU8kxIvAgTEPLrPSFmhdiUZf7bb7+dPf3009lPfvKT0AIeP348+8EPfhDe2xIYOCWOEa8bhcMGBNH5jDgZ6xmZEDnJL6FDGZQRPKc1QhXf9sFYnnvuue63q46GBsPOwyuf5XD6QS2RZYuI5icZ33hgE+gJW0N6ozsV1BlNzRF7If34xz/uqUWW2adqCp2NaeeSiAj27dsX3jcBCscKykcktBCsTGBOAfgeBT2/ZpZXyvNhaMxGQnGuqazgOc7GnBT7eqdq4TK/s2vmleNeuHChlhZsWrFGgoZj0tf8sgaLRNkSHWMXnkuXLgX7pSGiq5gnJVtmn6ooNWazZ8+eNS33tEEGottLiw84EwoJJX1ExT2EkeaISCzxwVIfw0BlJuLxTi2ORspQVvC8DLasjCUclLgJjoaVM/PG9SYdG2uxxg2bwUawOaJwHy2bfnWZfaqmlLOh9aOiDuqGTCpUfgqkTEtOoVmLYYmIhwo6DJzTlOuLuj+jMoox0GWL74vu4TRVqrqYZkcD2DTdbaITsMY11qrGGVEP2FZmn6op5Wx4kgN33nlneJ1GCBXpi588ebK7pR/66UQ2cTi6USg4CjDGWhdC2ZiqBM/t3PyO34u1TLujAcbnsG0b7KXMsREWnKNRAWyabjn1AMrsUzV9zgbDJtN9yA3+8eA0wn0QLvquTdxFolISAcRdjrynO+tB4VFg/hi0PPEgO9sZ8/Hns0FbjJ7zAoP0fEe/HAPxIW8Z6NNzb/6plz9Xmzl//nx4IshqE5bPlqpudKqChsNfJxH7mTNnwnsDG8G2bKVPVku13xll9qkSCZ4LIZJQqhslhBAbRc5GCJEEORshRBLkbIQQSZCzEUIkQc5GCJEEORshRBLkbIQQSZCzEUIkQc5GCJGEgc7G5kq0aR6NFyZq2723GZvT1iQRerPlIhuObb3O+WDrOhubBbpr167ulmZjk1C9qh1p06ZNvZmxoplQ9sywn2ZlA485zqtXrwY1yDxwNMz6RteJ/W0Scl0Op9DZmJzBd77znSB10AZee+21MFWf2a9+hrtE0ZuPyah+9atfDa/TDI7z2WefDfV3dna2u3Ut1G8a1YkQPLfVCD7xiU90tzQfhIOQBR3kWLxMBcmH3bwOEkW3CIqWxbqppDwpizjMZf+YeJ+8bkCZfdoKZUILj3zHe9/73u7W6QV5kscffzyUcxETI3hO5i8sLGRzc3OtUXIjc73aWREUCJGPhZ4kWgQEmKzylhFFB5Pm5Bh5QuUWztp5OCfdWhyHwT5xty/WHiqzT5vJ055uOhMheE6lo+9K+LWeZ2wj5A2VNo5+Dhw4EF694p5X0ysSRcfZIGwF7MtvvHQpxu+FsmxNoxjEn/LU/jxl9mkjOGKSlWHbGKvgubWsiJy3kaWlpe67YoqiHxNU3wg+hCVSoruDoyKhJIeinAeHFKsLWkRklNmnjZC/tOZ+5Ym2MHbBc4ycltVLJJqB0wo32UjpLrJkDfc36lhGFYLwHINroSyOHTsWHIV1fVg/6uGHH+7ueRO/T9EThTL7tA1adSI+74R5bwsHDisHO02MXfAcI0dx34ySZAbOwBGfuZCmsnv37vDqx1+AAV7u3RySF4kGG0zfyFpDHM8GKYvGyYg648gmhke3RY86jTL7tAHvgC3hiMkbxreavPqEddvHKnjeZiiAJ598MjgOLw7+zjvvhFeIRaJJDCzTCg5rmH6NKkJ5Qlpz5hwLY/D70MWzQWUjfspkoui+USizj2gW2JKVNZGa9Ux8tCbB8xZAYdNqsrSvDRAL0XQU2QghkiBnI4RIgrpRQogkKLIRQiRBzkYIkQQ5GyFEEuRshBBJkLMRQiRBzkYIkQQ5mxpgekBZcSqbSuA1aoaB+Sz83lKZyZX8g9nEu4RIRa6zsfkRPjV5BuywMHGNyWo+f8ZVcW0yIRMHNbmyn9gZY9sxcXnm7TOtDGrM7HtLdSoBFEY2TNyiECw1eQbsMFAYTFx74okn1uSP1wMZBn63kd+LYsjX+fn5nqoiDpny8xWP7cxPY0Ki32faHQ73ggOdCsFzkQ96H0hubEROQqSBlvpnP/tZeAVm9RMJejVEJEFRPzSxOPbB+SC1QAWcRri3qRI8F/mg0oemDCsxDAKjtvCUVsYbL62HfUcqak3iMLcoHB6EP06e4l8boUIhD4JGkUXtpt63uLgYdHqnEe5lagTPweuoxBWlzdDdwfubultR5UdD5Pz580F8jLxDt5hW1Cgz1sKxvVA5r3we1uHExylS/Gs6OBIqlDkXKhQVyxQW+Q79l/3794cyqULmdVKZCMFzIIzEKC1RUWybuJk/OB0TJYojE4z18OHDvRaTiIhWtGyLYWEu5zKJRlNX892AQeQdp42QX8isgikyGisrK+EBCPmEI8YZtYWxCp7ngfI8eqV+GRKx1unQKlCxq8br45I41zBYuIzAdVvB0fCAg0iFZXXM6dIQENU88sgjwYnHD0Es4mkiYxc8LwKD5cKanPkbYefOnbWFnjwhsAjT0jBPBjEawuVpHX/YKEWOBshD1BLjAX9b8qYpS/HmMXbB8zwoLNaRYsReT2D6IX8Iv8kf1nWqCgqbQt9oxGStN0YEVvnaMEC8nqMx6EKw5LItYURek+dxJWwa3Bv3mFLwPEM861/v3gi0u9zov3aOHDnS2bZtWy+dPXu2+227ycsb0vz8fHePVcivgwcPdm5EE90tq9v4LccAfhMfJ+9Yefv58ihzHK6D67HvFhYWwvdNL1fu0+eJT/7eb0Qynb179+Z+N60U2YW3QeBe7TvygLyoCyn1CSGSUGrMRgghNoqcjRAiCXI2QogkyNkIIZIgZyOESIKcjRAiCXI2QogkyNkIIZIgZyOESMLUOBvmrCAiXlZIPAZNl1F/K4TYOOs6GyakmbRBXRWVc5AmBXNqsT7NKHAM8k5i8eNlvYaKSYhMPDQ7t1RF+Y8TGld/P0UCePF+dd53rrOxwgGTNUBYZ5yzYDk31zDu6xgGZlrjaK5fv569+eab3a0iJTRkhw4dWnflidtuu60n+m2JGffTjAnpW0JrGJF+72xxNGMXPD916lTIbMShxGhQqK+//nr2hS98IbvrrrvWSIKKNFiloYHaunVreN9W0BrudDo9zSXsE2mUsQqecxEUEoJQkwA3TXRgYV5RlwTPnBcOx120IhFy+z0atOgHe4W8UbpBCDBt2bIlaNyQl+Rp3Kpw3CtXroQoMr4e9uf706dP967Bv/fX47u7pPieB52rqajBvAmN3R133NHTXDIFx7EKnttF8Oor77jGVRB/QgCJikFG5EElJkS0tX9M0Bsv7Y1tPRFy7pH3JkDuFfKGUcYz6EKZsLYpvpkCnIGA1aOPPpodPXq0dz0IlVlB8/3y8nIIcxF4YkWHc+fOZZcvX+51yygXtI3tnrh+jCYur0HnajPkMWuBjdvWq8aPx2ATXhN7YgTPyXwq5ZkzZ9YYMBc/icRemgyloscC4xsVIS+LdaH89Xi1PGP79u2hgDEGIALyrQrf4/CBcYW5ubnetQNlg7Iaimu2nfEsHCzl5SOpQedqK+QHjQx5ScKxk6dNcDh+3AabIGrHLjw0gNjY2ATPY8M2CcFhVP1TYjq7JsjONXKt6Mv6ypkKCvDtt9/uFRzXgPOLHUAsLE3YP+wAOGWVJ2Yet05VnKsN4HyIkOOymnZsPMYavIkQPLeKGwtkLy0tdd9NLmQmxsIibDiacfXXKVC6bLQkXA+Ja2Nb3JWqi7oMpg1g60Si42io6oIGmCieCAawjbELnlsU40ek88L1SYIuH8Zh4xYWNo4C95fX5SkLrSGtYrwqgo0jjXrcPBjsY9DPj71wflqr2IhEOSg7xgYn1dZHBUF3xv2sa2/1PKXgeW43ipCKyIAIgVbZFtLH49WBX32T5J+U8GoD1UQHDHRyXX4fW6fZrtdS3p+4BoGB0YUk0+048dOf9bDIJV4GhOPmdaU2Asfk2sDunWgKI/JhcVuJbcdHm5QD8GrlTMJRM0ZZl62nwsbnLDGswBgs7w1shC6jDY7z8MB+VweNEDwngwgRqXjWGuEceIo0zu6UEOImuZFNE+DRMGGj9VGFEOOlEZEN3RL+kk6Y7GHcZNrDYSGagtaNEkIkobHdKCHEZCFnI4RIgpyNECIJcjZCiCTI2QghkiBnI4RIgpyNECIJfc7GzyeJE9MCxGC8aJGlYeZXDQvze0aZB9YWyBfypyiPYptvkp2bLeZpUWGP2KXdt59vWAd9zoaTejEhkqnX6a//5SG/yDfyjxnfcPLkyfAq0oHjWE/wnPJh7pypPBYpHU4b3AvO4+rVq4X3jj0yd5B9SeRBLIpeJaW6UUg4wO7du8OrGA6b8V2HKqAoxmZ2ryd4TsN633339ZQDkF7A+TDrnwo4jWBjzz77bHCYs7Oz3a39cJ9+kjLyEwhq1aW5NNDZ4OXQtpE+yuhYHpomsYExWAhLymtN19vHQmTE2WOxrjhsjrt2beh2MS9uvRn/VEoaAF8u5Al5vLi42CcgNy1wL48//ngo50lioLNRVDMavvLziuF7jRkMGkNfT6h80D4cj+1MOPXdNpI/F7/B2fnvJQm66mzQYUYsDcgnymr//v0hP/muTSCri3pfrMVUFes6G0U1oxOP2ZjeDgbOtlj50MJ3DJ58L7PPMKSUJJ02VlZWQtlg65QVkU7bwKYQGKuzrq/rbMw4FdVsDJwF6n9+CZYyQuVlxcwHQVRlqx1aNwrjajuUC1HNI488EipZvGSPRTxNB1vANlDMrFPhsdDZ0ALj6TFURTXpKCNUPoqYOeVoXShzPG13ODgWnsagDX3vvfd2txZLuzaRVI4GCp0NC6KhdMfjM7ExcNyIkt9///0hqigjVD6MmLkty1G2m0QlopsnsmDf2DmC4FCUx00kpaMJIJ71r3c7a7h27Vrn4MGDnfn5+e4WMQxnz57tbNu2bU2K83JlZaVz5MiRNfvwO0+ZfYz4nH6/vOspOk6TuOF8O3v37u27d9LCwkJ3r/79mpA32Ju/X0vYE3aVZ1uWqPv4gKqRUp8QIgkDH30LIUQVyNkIIZIgZyOESIKcjRAiCXI2QogkyNkIIZIgZyOESIKcjRAiCXI2QogkyNnUAPNrEKeyGdamPyNEm8l1Nkz880LIqjD9kB8+f7wyHhP4EKdihjUaIWKyYUKiL8u6hb8ngbhB9Kkucf4+Z8NJ0PXwQsgvvPBCEHLKU2hvG1ZIXkGPtGnTpsYbaBPB0Rw9ejTYuJXlQw89VKvw9yTgG0RL2DNyG9R9r+tTFbnOBjlEv5ICcgeIQossO3XqVBBVwvv7AnnwwQdDqyCmC2w91gfauXNn9127qFtWps/Z4PHQ8iD8N3EllnygUNqu2EdLR57EwuWjEnfFfFfVQnsrA4PoMhYrj8XM8yLQeJ82CJ6XwWz62LFjoaGlhSfSaYOejYd7RyyPqA77qIPcMRuEdAgryXQ7sQSysyDFiUhVFXKROJb1xMxRjiOkffnll8NnwCAuXLiwpiLgRLyYOa989g6H4/p9SCrPVcgD8oKuwz333BM0nimDJGJSE0QKsbxcZ4OhPvDAA6HfapVALWE/Fn2QhhlUZL9BYuZs53v7DOgXo2PM+j7AdpwIvzPHwSu/wynhnAwJnudDHvoxOBZqw/bzosOmkiKqgT5nYwaMTq3pDx8/fjx8x3hFm6FfT//elvgwXV+iQMTJh6GMmLlp4NpyOiyoZtKiHi9kToqfgEnwvBjy1o/BEdEgk3nixInSjce0Y41YnVEN9DkbDL3T6aypCDgcDLbtWD7EUUOV+MFKH6VcuXIlOIi8wUscCRXDp3ilAHOMJAme32Rpaanv6QuR47CNxzRDI4beNQ+C6qTP2WDoMzMz4QIMDJSwX2t93xTI3si63cOImTOAef369ezFF18MLbBfBcCcH7+zrlYZJHh+E2wa28bGDWyfOjDsChbTiNVt36WvjfUEz70IsheIbjt5+YNgNsLZQF757yx5IelhxMxNvLqoDPLErSV4Xp44f0wUvOmYDaa6XwmeCyGSkPs0SgghqkbORgiRBDkbIUQS5GyEEEmQsxFCJEHORgiRBDkbIUQS5GyEEEmQsxFCJEHOZkwwCdLP1NakSNF0cp0NkwO94Lm0bFaxfIm1TpjMxgTNYRyGzcJGLyjFpEiura3lyD1z70X3T3l6x98mLRsm8dp9D6PJNAp9zoYKFQueMyP00KFDcjhi6qAyYbtFDh0n7FUM0SZCy6YNkSZ549UiEctDiK0uh9PnbJAHRBzqwIED3S1ZtmfPniBvIKU3MU2Yw0D2c+vWreF9DBGml0g1cX8vx9pEcCgLCwvZ3NxcT1qCvECt7+LFi+Fz1ZQas+FiiHRMoU4MhsIkLLUQddi1eKgo/Ob06dO93/v3/ljrdQPsO8SykAbdsWNH7n5NhMpDSy3Kg74PgmJ10OdsYilKwPCRSqzrIqYNZDetwpLQrF1cXOx+u+poMHLCUt6TcNZ0T4dxOM8880y2vLwcQnsEu4g6z507FyQckXIEHIbvBvDKZ3MkyFyyHXU+uhK2H6ltot5lIF/J66Yv52ICbrFIHl1IulbD2GlZ+pwN4SSrKnBSq0zPP/98UPoXq+B4rcKScAbbt2/vfruq9EY4SstqEOV4J1EGjsnvAJlKH/ICY2g4ljKC52Iw5CcNBN0or4jYRLCjw4cPh0DC6jnKkbt27eruUT253ShOTIWxysQAG7R18a5RwCFZIZKIfohS6mCQ4LkYDI4GO89bgLCp0DAxXmX1nMh78+bNla2LFlNqzMYGja2LJQZDhbdCtIQDxxlUTRnBc1FMGx1NHtgNg8a2VFDVDHQ2hFm0nD5UF+tDBEhkY09D6oLyoKtWRvCc1TJYJkZPFNciR7MKjoY6Pjs7W0uDCLnOxv/Rh/cMKvrxB7E+5FW8ThPJP0WyPObpEE+JbF+2DwMGwvn8UyZS/KSJbSzA5q+p6U+jqED2RJBI0z+Ns4aAByFsZzCeFTEtb/w+TYXyt3vFjrC9Oh8aSPBcCJGEUmM2QgixUeRshBBJkLMRQiRBzkYIkQQ5GyFEEuRshBBJkLMRQiRBzkYIkYSZ5Xfe7Wz5j5nsPXI7QojayLL/B0rIjPOfargEAAAAAElFTkSuQmCC)"
      ]
    },
    {
      "cell_type": "markdown",
      "metadata": {
        "id": "C4LCtZfGUFbO"
      },
      "source": [
        "<h4>First Example</h4>\n",
        "<b>Order them in increasing order of weight and then visit them sequentially, adding them to the solution as long as the budget is not exceeded</b>"
      ]
    },
    {
      "cell_type": "code",
      "metadata": {
        "id": "b4aWtl5DUKmr"
      },
      "source": [
        "data = pd.read_csv('items.CSV', delimiter=';')\n",
        "\n",
        "total_weight = 0  # weight in the knapsack\n",
        "w_max = 50  # weight budget\n",
        "items = {}\n",
        "\n",
        "for i in data.iterrows():\n",
        "    items.update({i[1].Name : i[1].Weight})\n",
        "\n",
        "sorted_items = dict(sorted(items.items(), key=lambda item : item[1]))\n",
        "\n",
        "item_added = []\n",
        "\n",
        "for i in sorted_items.keys():\n",
        "    if(total_weight+sorted_items.get(i) < w_max):\n",
        "        total_weight += sorted_items.get(i)\n",
        "        item_added.append(i)\n",
        "\n",
        "print('Total Weight: {}\\nItems added: {}'.format(total_weight, item_added))"
      ],
      "execution_count": null,
      "outputs": []
    },
    {
      "cell_type": "markdown",
      "metadata": {
        "id": "ebAi0frKUPp9"
      },
      "source": [
        "The way in which the items are added to the knapsack is not the most efficient one"
      ]
    },
    {
      "cell_type": "markdown",
      "metadata": {
        "id": "3Bd9PRxrURRH"
      },
      "source": [
        "<h4>Second Example</h4>\n",
        "<b>Order them in decreasing order of values, and then visit them sequentially, adding them to the solution if the budget is not exceeded.</b>\n",
        "The order of the items should be:\n",
        "<br>'Gemstone': 300,\n",
        "<br>'Light Armor': 30, \n",
        "<br>'Boots': 12, \n",
        "<br>'Compass': 10, \n",
        "<br>'Shield': 10, \n",
        "<br>'Sword': 9, \n",
        "<br>'Helmet': 9, \n",
        "<br>'Gloves': 7, \n",
        "<br>'Pickaxe': 3, \n",
        "<br>'Shovel': 2\n",
        "<br>\n",
        "<br>\n",
        "The sum of the weight of the items until \"Shield\" is 51. So the items in the knapsack would be:<br>\n",
        "<br>\n",
        "1. Gemstone\n",
        "<br>\n",
        "2. Light Armor\n",
        "<br>\n",
        "3. Boots\n",
        "<br>\n",
        "4. Compass\n",
        "\n",
        "This is not the most efficient way to have the most items in the bag\n",
        "\n",
        "<h4>Third Example</h4>\n",
        "<b>Order them in decreasing relative value (v_i / w_i), and then visit them sequentially, adding them to the solution if the budget is not exceeded</b>\n",
        "<br><br>\n",
        "'Gemstone': 150,\n",
        "<br>\n",
        "'Light Armor': 2,\n",
        "<br>'Compass': 2,\n",
        "<br>'Boots': 1,\n",
        "<br>'Helmet': 0,\n",
        "<br>'Gloves': 0,\n",
        "<br>'Shield': 0,\n",
        "<br>'Sword': 0,\n",
        "<br>'Shovel': 0,\n",
        "<br>'Pickaxe': 0,\n",
        "<br>\n",
        "<br>\n",
        "These are the items ordered in reverse by using the relative value v_i/w_i. If the items are added to the knapsack in this order there will be:\n",
        "\n",
        "1. Gemstone\n",
        "2. Light Armor\n",
        "3. Compass\n",
        "4. Boots\n",
        "5. Helmet\n",
        "\n",
        "Again, by using this algorithm we will not the most number of items in the knapsack"
      ]
    }
  ]
}